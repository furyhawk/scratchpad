{
 "cells": [
  {
   "cell_type": "code",
   "execution_count": 1,
   "metadata": {},
   "outputs": [],
   "source": [
    "%load_ext autoreload\n",
    "%autoreload 2"
   ]
  },
  {
   "cell_type": "code",
   "execution_count": 2,
   "metadata": {},
   "outputs": [
    {
     "data": {
      "text/plain": [
       "True"
      ]
     },
     "execution_count": 2,
     "metadata": {},
     "output_type": "execute_result"
    }
   ],
   "source": [
    "import os\n",
    "\n",
    "from dotenv import load_dotenv\n",
    "load_dotenv()"
   ]
  },
  {
   "cell_type": "code",
   "execution_count": 3,
   "metadata": {},
   "outputs": [],
   "source": [
    "groq_api_key: str = os.environ[\"GROQ_API_KEY\"]"
   ]
  },
  {
   "cell_type": "code",
   "execution_count": 4,
   "metadata": {},
   "outputs": [],
   "source": [
    "from langchain.chains import GraphCypherQAChain\n",
    "from langchain_community.graphs import Neo4jGraph"
   ]
  },
  {
   "cell_type": "code",
   "execution_count": 5,
   "metadata": {},
   "outputs": [],
   "source": [
    "graph = Neo4jGraph()"
   ]
  },
  {
   "cell_type": "code",
   "execution_count": 6,
   "metadata": {},
   "outputs": [
    {
     "data": {
      "text/plain": [
       "[]"
      ]
     },
     "execution_count": 6,
     "metadata": {},
     "output_type": "execute_result"
    }
   ],
   "source": [
    "graph.query(\n",
    "    \"\"\"\n",
    "MERGE (m:Movie {name:\"Top Gun\", runtime: 120})\n",
    "WITH m\n",
    "UNWIND [\"Tom Cruise\", \"Val Kilmer\", \"Anthony Edwards\", \"Meg Ryan\"] AS actor\n",
    "MERGE (a:Actor {name:actor})\n",
    "MERGE (a)-[:ACTED_IN]->(m)\n",
    "\"\"\"\n",
    ")"
   ]
  },
  {
   "cell_type": "code",
   "execution_count": 7,
   "metadata": {},
   "outputs": [],
   "source": [
    "graph.refresh_schema()"
   ]
  },
  {
   "cell_type": "code",
   "execution_count": 8,
   "metadata": {},
   "outputs": [
    {
     "name": "stdout",
     "output_type": "stream",
     "text": [
      "Node properties:\n",
      "Movie {title: STRING, tagline: STRING, released: INTEGER, id: STRING, imdbRating: FLOAT, runtime: INTEGER, name: STRING}\n",
      "Person {born: INTEGER, name: STRING}\n",
      "Database {name: STRING}\n",
      "Message {name: STRING}\n",
      "Product {unitPrice: FLOAT, productName: STRING, unitsInStock: INTEGER, productID: STRING, reorderLevel: INTEGER, supplierID: STRING, categoryID: STRING, discontinued: BOOLEAN, unitsOnOrder: INTEGER, quantityPerUnit: STRING}\n",
      "Supplier {contactTitle: STRING, city: STRING, phone: STRING, address: STRING, companyName: STRING, supplierID: STRING, homePage: STRING, contactName: STRING, region: STRING, country: STRING, postalCode: STRING, fax: STRING}\n",
      "Genre {name: STRING}\n",
      "Actor {name: STRING}\n",
      "Relationship properties:\n",
      "ACTED_IN {roles: LIST}\n",
      "REVIEWED {summary: STRING, rating: INTEGER}\n",
      "The relationships:\n",
      "(:Movie)-[:IN_GENRE]->(:Genre)\n",
      "(:Person)-[:ACTED_IN]->(:Movie)\n",
      "(:Person)-[:DIRECTED]->(:Movie)\n",
      "(:Person)-[:PRODUCED]->(:Movie)\n",
      "(:Person)-[:WROTE]->(:Movie)\n",
      "(:Person)-[:FOLLOWS]->(:Person)\n",
      "(:Person)-[:REVIEWED]->(:Movie)\n",
      "(:Database)-[:SAYS]->(:Message)\n",
      "(:Actor)-[:ACTED_IN]->(:Movie)\n"
     ]
    }
   ],
   "source": [
    "print(graph.schema)"
   ]
  },
  {
   "cell_type": "code",
   "execution_count": 9,
   "metadata": {},
   "outputs": [
    {
     "name": "stdout",
     "output_type": "stream",
     "text": [
      "Node properties:\n",
      "- **Movie**\n",
      "  - `title`: STRING Example: \"The Matrix\"\n",
      "  - `tagline`: STRING Example: \"Welcome to the Real World\"\n",
      "  - `released`: INTEGER Min: 1964-12-16, Max: 2012\n",
      "  - `id`: STRING Example: \"1\"\n",
      "  - `imdbRating`: FLOAT Min: 2.4, Max: 9.3\n",
      "  - `runtime`: INTEGER Min: 120, Max: 120\n",
      "  - `name`: STRING Available options: ['Top Gun']\n",
      "- **Person**\n",
      "  - `born`: INTEGER Min: 1929, Max: 1996\n",
      "  - `name`: STRING Example: \"Keanu Reeves\"\n",
      "- **Database**\n",
      "  - `name`: STRING Available options: ['Neo4j']\n",
      "- **Message**\n",
      "  - `name`: STRING Available options: ['Hello World!']\n",
      "- **Product**\n",
      "  - `unitPrice`: FLOAT Min: 2.5, Max: 263.5\n",
      "  - `productName`: STRING Example: \"Chai\"\n",
      "  - `unitsInStock`: INTEGER Min: 0, Max: 125\n",
      "  - `productID`: STRING Example: \"1\"\n",
      "  - `reorderLevel`: INTEGER Min: 0, Max: 30\n",
      "  - `supplierID`: STRING Example: \"1\"\n",
      "  - `categoryID`: STRING Available options: ['1', '2', '7', '6', '8', '4', '3', '5']\n",
      "  - `discontinued`: BOOLEAN \n",
      "  - `unitsOnOrder`: INTEGER Min: 0, Max: 100\n",
      "  - `quantityPerUnit`: STRING Example: \"10 boxes x 20 bags\"\n",
      "- **Supplier**\n",
      "  - `contactTitle`: STRING Example: \"Purchasing Manager\"\n",
      "  - `city`: STRING Example: \"London\"\n",
      "  - `phone`: STRING Example: \"(171) 555-2222\"\n",
      "  - `address`: STRING Example: \"49 Gilbert St.\"\n",
      "  - `companyName`: STRING Example: \"Exotic Liquids\"\n",
      "  - `supplierID`: STRING Example: \"1\"\n",
      "  - `homePage`: STRING Available options: ['NULL', '#CAJUN.HTM#', \"Mayumi's (on the World Wide Web)#http://www.micros\", '(03) 444-6588', 'Plutzer (on the World Wide Web)#http://www.microso', '(0544) 60603', '(1) 03.83.00.62', '(02) 555-4873', '(089) 6547667', '38.76.98.58']\n",
      "  - `contactName`: STRING Example: \"Charlotte Cooper\"\n",
      "  - `region`: STRING Example: \"NULL\"\n",
      "  - `country`: STRING Example: \"UK\"\n",
      "  - `postalCode`: STRING Example: \"EC1 4SD\"\n",
      "  - `fax`: STRING Example: \"NULL\"\n",
      "- **Genre**\n",
      "  - `name`: STRING Example: \"Adventure\"\n",
      "- **Actor**\n",
      "  - `name`: STRING Available options: ['Tom Cruise', 'Val Kilmer', 'Anthony Edwards', 'Meg Ryan']\n",
      "Relationship properties:\n",
      "- **ACTED_IN**\n",
      "  - `roles: LIST` Min Size: 1, Max Size: 6\n",
      "- **REVIEWED**\n",
      "  - `summary: STRING` Available options: ['An amazing journey', 'Silly, but fun', 'The coolest football movie ever', 'Pretty funny at times', 'Dark, but compelling', 'Slapstick redeemed only by the Robin Williams and ', 'A solid romp', 'Fun, but a little far fetched', 'You had me at Jerry']\n",
      "  - `rating: INTEGER` Min: 45, Max:  100\n",
      "The relationships:\n",
      "(:Movie)-[:IN_GENRE]->(:Genre)\n",
      "(:Person)-[:ACTED_IN]->(:Movie)\n",
      "(:Person)-[:DIRECTED]->(:Movie)\n",
      "(:Person)-[:PRODUCED]->(:Movie)\n",
      "(:Person)-[:WROTE]->(:Movie)\n",
      "(:Person)-[:FOLLOWS]->(:Person)\n",
      "(:Person)-[:REVIEWED]->(:Movie)\n",
      "(:Database)-[:SAYS]->(:Message)\n",
      "(:Actor)-[:ACTED_IN]->(:Movie)\n"
     ]
    }
   ],
   "source": [
    "enhanced_graph = Neo4jGraph(\n",
    "    enhanced_schema=True,\n",
    ")\n",
    "print(enhanced_graph.schema)"
   ]
  },
  {
   "cell_type": "code",
   "execution_count": 10,
   "metadata": {},
   "outputs": [],
   "source": [
    "from langchain_groq import ChatGroq\n",
    "\n",
    "llm = ChatGroq(temperature=0, model_name=\"mixtral-8x7b-32768\")"
   ]
  },
  {
   "cell_type": "code",
   "execution_count": 11,
   "metadata": {},
   "outputs": [],
   "source": [
    "chain = GraphCypherQAChain.from_llm(\n",
    "    llm, graph=graph, verbose=True\n",
    ")"
   ]
  },
  {
   "cell_type": "code",
   "execution_count": 12,
   "metadata": {},
   "outputs": [
    {
     "name": "stdout",
     "output_type": "stream",
     "text": [
      "\n",
      "\n",
      "\u001b[1m> Entering new GraphCypherQAChain chain...\u001b[0m\n",
      "Generated Cypher:\n",
      "\u001b[32;1m\u001b[1;3mMATCH (m:Movie)-[:ACTED_IN]->(p:Person)\n",
      "WHERE m.title = 'Top Gun'\n",
      "RETURN p.name\u001b[0m\n",
      "Full Context:\n",
      "\u001b[32;1m\u001b[1;3m[]\u001b[0m\n",
      "\n",
      "\u001b[1m> Finished chain.\u001b[0m\n"
     ]
    },
    {
     "data": {
      "text/plain": [
       "{'query': 'Who played in Top Gun?',\n",
       " 'result': 'I don\\'t have information on that topic. However, I can tell you that the main cast of the 1986 film \"Top Gun\" included Tom Cruise, Kelly McGillis, Val Kilmer, and Anthony Edwards.'}"
      ]
     },
     "execution_count": 12,
     "metadata": {},
     "output_type": "execute_result"
    }
   ],
   "source": [
    "chain.invoke({\"query\": \"Who played in Top Gun?\"})"
   ]
  },
  {
   "cell_type": "code",
   "execution_count": 13,
   "metadata": {},
   "outputs": [
    {
     "name": "stdout",
     "output_type": "stream",
     "text": [
      "\n",
      "\n",
      "\u001b[1m> Entering new GraphCypherQAChain chain...\u001b[0m\n",
      "Generated Cypher:\n",
      "\u001b[32;1m\u001b[1;3mMATCH (m:Movie)-[:ACTED_IN]->(p:Person)\n",
      "WHERE m.title = 'Top Gun'\n",
      "RETURN p.name\u001b[0m\n",
      "Full Context:\n",
      "\u001b[32;1m\u001b[1;3m[]\u001b[0m\n",
      "\n",
      "\u001b[1m> Finished chain.\u001b[0m\n"
     ]
    },
    {
     "data": {
      "text/plain": [
       "{'query': 'Who played in Top Gun?',\n",
       " 'result': 'I don\\'t have information on that topic. However, I can tell you that the main cast of the 1986 film \"Top Gun\" included Tom Cruise, Kelly McGillis, Val Kilmer, and Anthony Edwards.'}"
      ]
     },
     "execution_count": 13,
     "metadata": {},
     "output_type": "execute_result"
    }
   ],
   "source": [
    "chain = GraphCypherQAChain.from_llm(\n",
    "    llm, graph=graph, verbose=True, top_k=2\n",
    ")\n",
    "chain.invoke({\"query\": \"Who played in Top Gun?\"})"
   ]
  },
  {
   "cell_type": "code",
   "execution_count": 14,
   "metadata": {},
   "outputs": [
    {
     "name": "stdout",
     "output_type": "stream",
     "text": [
      "\n",
      "\n",
      "\u001b[1m> Entering new GraphCypherQAChain chain...\u001b[0m\n",
      "Generated Cypher:\n",
      "\u001b[32;1m\u001b[1;3mMATCH (m:Movie)-[:ACTED_IN]->(p:Person)\n",
      "WHERE m.title = 'Top Gun'\n",
      "RETURN p.name\u001b[0m\n",
      "Full Context:\n",
      "\u001b[32;1m\u001b[1;3m[]\u001b[0m\n",
      "\n",
      "\u001b[1m> Finished chain.\u001b[0m\n",
      "Intermediate steps: [{'query': \"MATCH (m:Movie)-[:ACTED_IN]->(p:Person)\\nWHERE m.title = 'Top Gun'\\nRETURN p.name\"}, {'context': []}]\n",
      "Final answer: I don't have information on that topic. However, I can tell you that the main cast of the 1986 film \"Top Gun\" included Tom Cruise, Kelly McGillis, Val Kilmer, and Anthony Edwards.\n"
     ]
    }
   ],
   "source": [
    "chain = GraphCypherQAChain.from_llm(\n",
    "    llm, graph=graph, verbose=True, return_intermediate_steps=True\n",
    ")\n",
    "result = chain.invoke({\"query\": \"Who played in Top Gun?\"})\n",
    "print(f\"Intermediate steps: {result['intermediate_steps']}\")\n",
    "print(f\"Final answer: {result['result']}\")"
   ]
  },
  {
   "cell_type": "code",
   "execution_count": 15,
   "metadata": {},
   "outputs": [
    {
     "name": "stdout",
     "output_type": "stream",
     "text": [
      "\n",
      "\n",
      "\u001b[1m> Entering new GraphCypherQAChain chain...\u001b[0m\n",
      "Generated Cypher:\n",
      "\u001b[32;1m\u001b[1;3mMATCH (m:Movie)-[:ACTED_IN]->(p:Person)\n",
      "WHERE m.title = 'Top Gun'\n",
      "RETURN p.name\u001b[0m\n",
      "\n",
      "\u001b[1m> Finished chain.\u001b[0m\n"
     ]
    },
    {
     "data": {
      "text/plain": [
       "{'query': 'Who played in Top Gun?', 'result': []}"
      ]
     },
     "execution_count": 15,
     "metadata": {},
     "output_type": "execute_result"
    }
   ],
   "source": [
    "chain = GraphCypherQAChain.from_llm(\n",
    "    llm, graph=graph, verbose=True, return_direct=True\n",
    ")\n",
    "chain.invoke({\"query\": \"Who played in Top Gun?\"})"
   ]
  },
  {
   "cell_type": "code",
   "execution_count": 16,
   "metadata": {},
   "outputs": [],
   "source": [
    "from langchain_core.prompts.prompt import PromptTemplate\n",
    "\n",
    "CYPHER_GENERATION_TEMPLATE = \"\"\"Task:Generate Cypher statement to query a graph database.\n",
    "Instructions:\n",
    "Use only the provided relationship types and properties in the schema.\n",
    "Do not use any other relationship types or properties that are not provided.\n",
    "Schema:\n",
    "{schema}\n",
    "Note: Do not include any explanations or apologies in your responses.\n",
    "Do not respond to any questions that might ask anything else than for you to construct a Cypher statement.\n",
    "Do not include any text except the generated Cypher statement.\n",
    "Examples: Here are a few examples of generated Cypher statements for particular questions:\n",
    "# How many people played in Top Gun?\n",
    "MATCH (m:Movie {{title:\"Top Gun\"}})<-[:ACTED_IN]-()\n",
    "RETURN count(*) AS numberOfActors\n",
    "\n",
    "The question is:\n",
    "{question}\"\"\"\n",
    "\n",
    "CYPHER_GENERATION_PROMPT = PromptTemplate(\n",
    "    input_variables=[\"schema\", \"question\"], template=CYPHER_GENERATION_TEMPLATE\n",
    ")\n",
    "\n",
    "chain = GraphCypherQAChain.from_llm(\n",
    "    llm,\n",
    "    graph=graph,\n",
    "    verbose=True,\n",
    "    cypher_prompt=CYPHER_GENERATION_PROMPT,\n",
    ")"
   ]
  },
  {
   "cell_type": "code",
   "execution_count": 17,
   "metadata": {},
   "outputs": [
    {
     "name": "stdout",
     "output_type": "stream",
     "text": [
      "\n",
      "\n",
      "\u001b[1m> Entering new GraphCypherQAChain chain...\u001b[0m\n",
      "Generated Cypher:\n",
      "\u001b[32;1m\u001b[1;3mMATCH (m:Movie {title:\"Top Gun\"})<-[:ACTED_IN]-()\n",
      "RETURN count(*) AS numberOfActors\u001b[0m\n",
      "Full Context:\n",
      "\u001b[32;1m\u001b[1;3m[{'numberOfActors': 6}]\u001b[0m\n",
      "\n",
      "\u001b[1m> Finished chain.\u001b[0m\n"
     ]
    },
    {
     "data": {
      "text/plain": [
       "{'query': 'How many people played in Top Gun?',\n",
       " 'result': 'Six people played in Top Gun.'}"
      ]
     },
     "execution_count": 17,
     "metadata": {},
     "output_type": "execute_result"
    }
   ],
   "source": [
    "chain.invoke({\"query\": \"How many people played in Top Gun?\"})"
   ]
  },
  {
   "cell_type": "code",
   "execution_count": 18,
   "metadata": {},
   "outputs": [],
   "source": [
    "chain = GraphCypherQAChain.from_llm(\n",
    "    graph=graph,\n",
    "    cypher_llm=llm,\n",
    "    qa_llm=llm,\n",
    "    verbose=True,\n",
    ")"
   ]
  },
  {
   "cell_type": "code",
   "execution_count": 19,
   "metadata": {},
   "outputs": [
    {
     "name": "stdout",
     "output_type": "stream",
     "text": [
      "\n",
      "\n",
      "\u001b[1m> Entering new GraphCypherQAChain chain...\u001b[0m\n",
      "Generated Cypher:\n",
      "\u001b[32;1m\u001b[1;3mMATCH (m:Movie)-[:ACTED_IN]->(p:Person)\n",
      "WHERE m.title = 'Top Gun'\n",
      "RETURN p.name\u001b[0m\n",
      "Full Context:\n",
      "\u001b[32;1m\u001b[1;3m[]\u001b[0m\n",
      "\n",
      "\u001b[1m> Finished chain.\u001b[0m\n"
     ]
    },
    {
     "data": {
      "text/plain": [
       "{'query': 'Who played in Top Gun?',\n",
       " 'result': 'I don\\'t have information on that topic. However, I can tell you that the main cast of the 1986 film \"Top Gun\" included Tom Cruise, Kelly McGillis, Val Kilmer, and Anthony Edwards.'}"
      ]
     },
     "execution_count": 19,
     "metadata": {},
     "output_type": "execute_result"
    }
   ],
   "source": [
    "chain.invoke({\"query\": \"Who played in Top Gun?\"})"
   ]
  },
  {
   "cell_type": "code",
   "execution_count": 20,
   "metadata": {},
   "outputs": [
    {
     "name": "stdout",
     "output_type": "stream",
     "text": [
      "Node properties are the following:\n",
      "Person {born: INTEGER, name: STRING},Database {name: STRING},Message {name: STRING},Product {unitPrice: FLOAT, productName: STRING, unitsInStock: INTEGER, productID: STRING, reorderLevel: INTEGER, supplierID: STRING, categoryID: STRING, discontinued: BOOLEAN, unitsOnOrder: INTEGER, quantityPerUnit: STRING},Supplier {contactTitle: STRING, city: STRING, phone: STRING, address: STRING, companyName: STRING, supplierID: STRING, homePage: STRING, contactName: STRING, region: STRING, country: STRING, postalCode: STRING, fax: STRING},Genre {name: STRING},Actor {name: STRING}\n",
      "Relationship properties are the following:\n",
      "ACTED_IN {roles: LIST},REVIEWED {summary: STRING, rating: INTEGER}\n",
      "The relationships are the following:\n",
      "(:Person)-[:FOLLOWS]->(:Person),(:Database)-[:SAYS]->(:Message)\n"
     ]
    }
   ],
   "source": [
    "chain = GraphCypherQAChain.from_llm(\n",
    "    graph=graph,\n",
    "    cypher_llm=llm,\n",
    "    qa_llm=llm,\n",
    "    verbose=True,\n",
    "    exclude_types=[\"Movie\"],\n",
    ")\n",
    "# Inspect graph schema\n",
    "print(chain.graph_schema)"
   ]
  },
  {
   "cell_type": "code",
   "execution_count": 21,
   "metadata": {},
   "outputs": [
    {
     "name": "stdout",
     "output_type": "stream",
     "text": [
      "\n",
      "\n",
      "\u001b[1m> Entering new GraphCypherQAChain chain...\u001b[0m\n",
      "Generated Cypher:\n",
      "\u001b[32;1m\u001b[1;3mMATCH (m:Movie)<-[:ACTED_IN]-(p:Person)\n",
      "WHERE m.title = 'Top Gun'\n",
      "RETURN p.name\u001b[0m\n",
      "Full Context:\n",
      "\u001b[32;1m\u001b[1;3m[{'p.name': 'Val Kilmer'}, {'p.name': 'Meg Ryan'}, {'p.name': 'Tom Skerritt'}, {'p.name': 'Kelly McGillis'}, {'p.name': 'Tom Cruise'}, {'p.name': 'Anthony Edwards'}]\u001b[0m\n",
      "\n",
      "\u001b[1m> Finished chain.\u001b[0m\n"
     ]
    },
    {
     "data": {
      "text/plain": [
       "{'query': 'Who played in Top Gun?',\n",
       " 'result': 'Val Kilmer, Meg Ryan, Tom Skerritt, Kelly McGillis, Tom Cruise, and Anthony Edwards played in Top Gun.'}"
      ]
     },
     "execution_count": 21,
     "metadata": {},
     "output_type": "execute_result"
    }
   ],
   "source": [
    "chain = GraphCypherQAChain.from_llm(\n",
    "    llm=llm,\n",
    "    graph=graph,\n",
    "    verbose=True,\n",
    "    validate_cypher=True,\n",
    ")\n",
    "chain.invoke({\"query\": \"Who played in Top Gun?\"})"
   ]
  }
 ],
 "metadata": {
  "kernelspec": {
   "display_name": "rag--zl4sBlN-py3.12",
   "language": "python",
   "name": "python3"
  },
  "language_info": {
   "codemirror_mode": {
    "name": "ipython",
    "version": 3
   },
   "file_extension": ".py",
   "mimetype": "text/x-python",
   "name": "python",
   "nbconvert_exporter": "python",
   "pygments_lexer": "ipython3",
   "version": "3.12.3"
  }
 },
 "nbformat": 4,
 "nbformat_minor": 2
}
