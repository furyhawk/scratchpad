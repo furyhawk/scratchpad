{
 "cells": [
  {
   "cell_type": "code",
   "execution_count": 17,
   "metadata": {},
   "outputs": [
    {
     "name": "stdout",
     "output_type": "stream",
     "text": [
      ">>> test\n",
      "<<< Hello test!\n"
     ]
    }
   ],
   "source": [
    "#!/usr/bin/env python\n",
    "\n",
    "import websockets\n",
    "\n",
    "async def hello():\n",
    "    # uri = \"wss://mqtt.furyhawk.lol:8084/mqtt\"\n",
    "    uri = \"ws://localhost:8765\"\n",
    "    async with websockets.connect(uri) as websocket:\n",
    "        name = input(\"What's your name? \")\n",
    "\n",
    "        await websocket.send(name)\n",
    "        print(f\">>> {name}\")\n",
    "\n",
    "        greeting = await websocket.recv()\n",
    "        print(f\"<<< {greeting}\")\n",
    "\n",
    "\n",
    "await hello()"
   ]
  }
 ],
 "metadata": {
  "kernelspec": {
   "display_name": "rag--zl4sBlN-py3.12",
   "language": "python",
   "name": "python3"
  },
  "language_info": {
   "codemirror_mode": {
    "name": "ipython",
    "version": 3
   },
   "file_extension": ".py",
   "mimetype": "text/x-python",
   "name": "python",
   "nbconvert_exporter": "python",
   "pygments_lexer": "ipython3",
   "version": "3.12.3"
  }
 },
 "nbformat": 4,
 "nbformat_minor": 2
}
