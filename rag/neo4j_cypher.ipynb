{
 "cells": [
  {
   "cell_type": "markdown",
   "id": "c94240f5",
   "metadata": {},
   "source": [
    "# Neo4j\n",
    "\n",
    ">[Neo4j](https://neo4j.com/docs/getting-started/) is a graph database management system developed by `Neo4j, Inc`.\n",
    "\n",
    ">The data elements `Neo4j` stores are nodes, edges connecting them, and attributes of nodes and edges. Described by its developers as an ACID-compliant transactional database with native graph storage and processing, `Neo4j` is available in a non-open-source \"community edition\" licensed with a modification of the GNU General Public License, with online backup and high availability extensions licensed under a closed-source commercial license. Neo also licenses `Neo4j` with these extensions under closed-source commercial terms.\n",
    "\n",
    ">This notebook shows how to use LLMs to provide a natural language interface to a graph database you can query with the `Cypher` query language.\n",
    "\n",
    ">[Cypher](https://en.wikipedia.org/wiki/Cypher_(query_language)) is a declarative graph query language that allows for expressive and efficient data querying in a property graph.\n"
   ]
  },
  {
   "cell_type": "markdown",
   "id": "dbc0ee68",
   "metadata": {},
   "source": [
    "## Setting up\n",
    "\n",
    "You will need to have a running `Neo4j` instance. One option is to create a [free Neo4j database instance in their Aura cloud service](https://neo4j.com/cloud/platform/aura-graph-database/). You can also run the database locally using the [Neo4j Desktop application](https://neo4j.com/download/), or running a docker container.\n",
    "You can run a local docker container by running the executing the following script:\n",
    "\n",
    "```\n",
    "docker run \\\n",
    "    --name neo4j \\\n",
    "    -p 7474:7474 -p 7687:7687 \\\n",
    "    -d \\\n",
    "    -e NEO4J_AUTH=neo4j/password \\\n",
    "    -e NEO4J_PLUGINS=\\[\\\"apoc\\\"\\]  \\\n",
    "    neo4j:latest\n",
    "```\n",
    "\n",
    "If you are using the docker container, you need to wait a couple of second for the database to start."
   ]
  },
  {
   "cell_type": "code",
   "execution_count": 1,
   "id": "59abaada",
   "metadata": {},
   "outputs": [],
   "source": [
    "import os\n",
    "\n",
    "from dotenv import load_dotenv\n",
    "load_dotenv()\n",
    "groq_api_key: str = os.environ[\"GROQ_API_KEY\"]"
   ]
  },
  {
   "cell_type": "code",
   "execution_count": 2,
   "id": "62812aad",
   "metadata": {},
   "outputs": [],
   "source": [
    "from langchain.chains import GraphCypherQAChain\n",
    "from langchain_community.graphs import Neo4jGraph\n",
    "from langchain_groq import ChatGroq\n",
    "\n",
    "llm = ChatGroq(temperature=0, model_name=\"mixtral-8x7b-32768\")"
   ]
  },
  {
   "cell_type": "code",
   "execution_count": 3,
   "id": "0928915d",
   "metadata": {},
   "outputs": [],
   "source": [
    "graph = Neo4jGraph()"
   ]
  },
  {
   "cell_type": "markdown",
   "id": "995ea9b9",
   "metadata": {},
   "source": [
    "## Seeding the database\n",
    "\n",
    "Assuming your database is empty, you can populate it using Cypher query language. The following Cypher statement is idempotent, which means the database information will be the same if you run it one or multiple times."
   ]
  },
  {
   "cell_type": "code",
   "execution_count": 4,
   "id": "fedd26b9",
   "metadata": {},
   "outputs": [
    {
     "data": {
      "text/plain": [
       "[]"
      ]
     },
     "execution_count": 4,
     "metadata": {},
     "output_type": "execute_result"
    }
   ],
   "source": [
    "graph.query(\n",
    "    \"\"\"\n",
    "MERGE (m:Movie {name:\"Top Gun\", runtime: 120})\n",
    "WITH m\n",
    "UNWIND [\"Tom Cruise\", \"Val Kilmer\", \"Anthony Edwards\", \"Meg Ryan\"] AS actor\n",
    "MERGE (a:Actor {name:actor})\n",
    "MERGE (a)-[:ACTED_IN]->(m)\n",
    "\"\"\"\n",
    ")"
   ]
  },
  {
   "cell_type": "markdown",
   "id": "58c1a8ea",
   "metadata": {},
   "source": [
    "## Refresh graph schema information\n",
    "If the schema of database changes, you can refresh the schema information needed to generate Cypher statements."
   ]
  },
  {
   "cell_type": "code",
   "execution_count": 5,
   "id": "4e3de44f",
   "metadata": {},
   "outputs": [],
   "source": [
    "graph.refresh_schema()"
   ]
  },
  {
   "cell_type": "code",
   "execution_count": 6,
   "id": "1fe76ccd",
   "metadata": {},
   "outputs": [
    {
     "name": "stdout",
     "output_type": "stream",
     "text": [
      "Node properties:\n",
      "Movie {title: STRING, tagline: STRING, released: INTEGER, id: STRING, imdbRating: FLOAT, runtime: INTEGER, name: STRING}\n",
      "Person {born: INTEGER, name: STRING}\n",
      "Database {name: STRING}\n",
      "Message {name: STRING}\n",
      "Product {unitPrice: FLOAT, productName: STRING, unitsInStock: INTEGER, productID: STRING, reorderLevel: INTEGER, supplierID: STRING, categoryID: STRING, discontinued: BOOLEAN, unitsOnOrder: INTEGER, quantityPerUnit: STRING}\n",
      "Supplier {contactTitle: STRING, city: STRING, phone: STRING, address: STRING, companyName: STRING, supplierID: STRING, homePage: STRING, contactName: STRING, region: STRING, country: STRING, postalCode: STRING, fax: STRING}\n",
      "Genre {name: STRING}\n",
      "Actor {name: STRING}\n",
      "Relationship properties:\n",
      "ACTED_IN {roles: LIST}\n",
      "REVIEWED {summary: STRING, rating: INTEGER}\n",
      "The relationships:\n",
      "(:Movie)-[:IN_GENRE]->(:Genre)\n",
      "(:Person)-[:ACTED_IN]->(:Movie)\n",
      "(:Person)-[:DIRECTED]->(:Movie)\n",
      "(:Person)-[:PRODUCED]->(:Movie)\n",
      "(:Person)-[:WROTE]->(:Movie)\n",
      "(:Person)-[:FOLLOWS]->(:Person)\n",
      "(:Person)-[:REVIEWED]->(:Movie)\n",
      "(:Database)-[:SAYS]->(:Message)\n",
      "(:Actor)-[:ACTED_IN]->(:Movie)\n"
     ]
    }
   ],
   "source": [
    "print(graph.schema)"
   ]
  },
  {
   "cell_type": "markdown",
   "id": "3d88f516-2e60-4da4-b25f-dad5801fe133",
   "metadata": {},
   "source": [
    "## Enhanced schema information\n",
    "Choosing the enhanced schema version enables the system to automatically scan for example values within the databases and calculate some distribution metrics. For example, if a node property has less than 10 distinct values, we return all possible values in the schema. Otherwise, return only a single example value per node and relationship property."
   ]
  },
  {
   "cell_type": "code",
   "execution_count": 7,
   "id": "c8233976-1ca7-4f8f-af20-e8fb3e081fdd",
   "metadata": {},
   "outputs": [
    {
     "name": "stdout",
     "output_type": "stream",
     "text": [
      "Node properties:\n",
      "- **Movie**\n",
      "  - `title`: STRING Example: \"The Matrix\"\n",
      "  - `tagline`: STRING Example: \"Welcome to the Real World\"\n",
      "  - `released`: INTEGER Min: 1964-12-16, Max: 2012\n",
      "  - `id`: STRING Example: \"1\"\n",
      "  - `imdbRating`: FLOAT Min: 2.4, Max: 9.3\n",
      "  - `runtime`: INTEGER Min: 120, Max: 120\n",
      "  - `name`: STRING Available options: ['Top Gun']\n",
      "- **Person**\n",
      "  - `born`: INTEGER Min: 1929, Max: 1996\n",
      "  - `name`: STRING Example: \"Keanu Reeves\"\n",
      "- **Database**\n",
      "  - `name`: STRING Available options: ['Neo4j']\n",
      "- **Message**\n",
      "  - `name`: STRING Available options: ['Hello World!']\n",
      "- **Product**\n",
      "  - `unitPrice`: FLOAT Min: 2.5, Max: 263.5\n",
      "  - `productName`: STRING Example: \"Chai\"\n",
      "  - `unitsInStock`: INTEGER Min: 0, Max: 125\n",
      "  - `productID`: STRING Example: \"1\"\n",
      "  - `reorderLevel`: INTEGER Min: 0, Max: 30\n",
      "  - `supplierID`: STRING Example: \"1\"\n",
      "  - `categoryID`: STRING Available options: ['1', '2', '7', '6', '8', '4', '3', '5']\n",
      "  - `discontinued`: BOOLEAN \n",
      "  - `unitsOnOrder`: INTEGER Min: 0, Max: 100\n",
      "  - `quantityPerUnit`: STRING Example: \"10 boxes x 20 bags\"\n",
      "- **Supplier**\n",
      "  - `contactTitle`: STRING Example: \"Purchasing Manager\"\n",
      "  - `city`: STRING Example: \"London\"\n",
      "  - `phone`: STRING Example: \"(171) 555-2222\"\n",
      "  - `address`: STRING Example: \"49 Gilbert St.\"\n",
      "  - `companyName`: STRING Example: \"Exotic Liquids\"\n",
      "  - `supplierID`: STRING Example: \"1\"\n",
      "  - `homePage`: STRING Available options: ['NULL', '#CAJUN.HTM#', \"Mayumi's (on the World Wide Web)#http://www.micros\", '(03) 444-6588', 'Plutzer (on the World Wide Web)#http://www.microso', '(0544) 60603', '(1) 03.83.00.62', '(02) 555-4873', '(089) 6547667', '38.76.98.58']\n",
      "  - `contactName`: STRING Example: \"Charlotte Cooper\"\n",
      "  - `region`: STRING Example: \"NULL\"\n",
      "  - `country`: STRING Example: \"UK\"\n",
      "  - `postalCode`: STRING Example: \"EC1 4SD\"\n",
      "  - `fax`: STRING Example: \"NULL\"\n",
      "- **Genre**\n",
      "  - `name`: STRING Example: \"Adventure\"\n",
      "- **Actor**\n",
      "  - `name`: STRING Available options: ['Tom Cruise', 'Val Kilmer', 'Anthony Edwards', 'Meg Ryan']\n",
      "Relationship properties:\n",
      "- **ACTED_IN**\n",
      "  - `roles: LIST` Min Size: 1, Max Size: 6\n",
      "- **REVIEWED**\n",
      "  - `summary: STRING` Available options: ['An amazing journey', 'Silly, but fun', 'The coolest football movie ever', 'Pretty funny at times', 'Dark, but compelling', 'Slapstick redeemed only by the Robin Williams and ', 'A solid romp', 'Fun, but a little far fetched', 'You had me at Jerry']\n",
      "  - `rating: INTEGER` Min: 45, Max:  100\n",
      "The relationships:\n",
      "(:Movie)-[:IN_GENRE]->(:Genre)\n",
      "(:Person)-[:ACTED_IN]->(:Movie)\n",
      "(:Person)-[:DIRECTED]->(:Movie)\n",
      "(:Person)-[:PRODUCED]->(:Movie)\n",
      "(:Person)-[:WROTE]->(:Movie)\n",
      "(:Person)-[:FOLLOWS]->(:Person)\n",
      "(:Person)-[:REVIEWED]->(:Movie)\n",
      "(:Database)-[:SAYS]->(:Message)\n",
      "(:Actor)-[:ACTED_IN]->(:Movie)\n"
     ]
    }
   ],
   "source": [
    "enhanced_graph = Neo4jGraph(\n",
    "    enhanced_schema=True,\n",
    ")\n",
    "print(enhanced_graph.schema)"
   ]
  },
  {
   "cell_type": "markdown",
   "id": "68a3c677",
   "metadata": {},
   "source": [
    "## Querying the graph\n",
    "\n",
    "We can now use the graph cypher QA chain to ask question of the graph"
   ]
  },
  {
   "cell_type": "code",
   "execution_count": 8,
   "id": "7476ce98",
   "metadata": {},
   "outputs": [],
   "source": [
    "chain = GraphCypherQAChain.from_llm(\n",
    "    llm, graph=graph, verbose=True\n",
    ")"
   ]
  },
  {
   "cell_type": "code",
   "execution_count": 9,
   "id": "ef8ee27b",
   "metadata": {},
   "outputs": [
    {
     "name": "stdout",
     "output_type": "stream",
     "text": [
      "\n",
      "\n",
      "\u001b[1m> Entering new GraphCypherQAChain chain...\u001b[0m\n",
      "Generated Cypher:\n",
      "\u001b[32;1m\u001b[1;3mMATCH (m:Movie)-[:ACTED_IN]->(p:Person)\n",
      "WHERE m.title = 'Top Gun'\n",
      "RETURN p.name\u001b[0m\n",
      "Full Context:\n",
      "\u001b[32;1m\u001b[1;3m[]\u001b[0m\n",
      "\n",
      "\u001b[1m> Finished chain.\u001b[0m\n"
     ]
    },
    {
     "data": {
      "text/plain": [
       "{'query': 'Who played in Top Gun?',\n",
       " 'result': 'I don\\'t have information on that topic. However, I can tell you that the main cast of the 1986 film \"Top Gun\" included Tom Cruise, Kelly McGillis, Val Kilmer, and Anthony Edwards.'}"
      ]
     },
     "execution_count": 9,
     "metadata": {},
     "output_type": "execute_result"
    }
   ],
   "source": [
    "chain.invoke({\"query\": \"Who played in Top Gun?\"})"
   ]
  },
  {
   "cell_type": "markdown",
   "id": "2d28c4df",
   "metadata": {},
   "source": [
    "## Limit the number of results\n",
    "You can limit the number of results from the Cypher QA Chain using the `top_k` parameter.\n",
    "The default is 10."
   ]
  },
  {
   "cell_type": "code",
   "execution_count": 10,
   "id": "df230946",
   "metadata": {},
   "outputs": [],
   "source": [
    "chain = GraphCypherQAChain.from_llm(\n",
    "    llm, graph=graph, verbose=True, top_k=2\n",
    ")"
   ]
  },
  {
   "cell_type": "code",
   "execution_count": 11,
   "id": "3f1600ee",
   "metadata": {},
   "outputs": [
    {
     "name": "stdout",
     "output_type": "stream",
     "text": [
      "\n",
      "\n",
      "\u001b[1m> Entering new GraphCypherQAChain chain...\u001b[0m\n",
      "Generated Cypher:\n",
      "\u001b[32;1m\u001b[1;3mMATCH (m:Movie)-[:ACTED_IN]->(p:Person)\n",
      "WHERE m.title = 'Top Gun'\n",
      "RETURN p.name\u001b[0m\n",
      "Full Context:\n",
      "\u001b[32;1m\u001b[1;3m[]\u001b[0m\n",
      "\n",
      "\u001b[1m> Finished chain.\u001b[0m\n"
     ]
    },
    {
     "data": {
      "text/plain": [
       "{'query': 'Who played in Top Gun?',\n",
       " 'result': 'I don\\'t have information on that topic. However, I can tell you that the main cast of the 1986 film \"Top Gun\" included Tom Cruise, Kelly McGillis, Val Kilmer, and Anthony Edwards.'}"
      ]
     },
     "execution_count": 11,
     "metadata": {},
     "output_type": "execute_result"
    }
   ],
   "source": [
    "chain.invoke({\"query\": \"Who played in Top Gun?\"})"
   ]
  },
  {
   "cell_type": "markdown",
   "id": "88c16206",
   "metadata": {},
   "source": [
    "## Return intermediate results\n",
    "You can return intermediate steps from the Cypher QA Chain using the `return_intermediate_steps` parameter"
   ]
  },
  {
   "cell_type": "code",
   "execution_count": 12,
   "id": "e412f36b",
   "metadata": {},
   "outputs": [],
   "source": [
    "chain = GraphCypherQAChain.from_llm(\n",
    "    llm, graph=graph, verbose=True, return_intermediate_steps=True\n",
    ")"
   ]
  },
  {
   "cell_type": "code",
   "execution_count": 13,
   "id": "4f4699dc",
   "metadata": {},
   "outputs": [
    {
     "name": "stdout",
     "output_type": "stream",
     "text": [
      "\n",
      "\n",
      "\u001b[1m> Entering new GraphCypherQAChain chain...\u001b[0m\n",
      "Generated Cypher:\n",
      "\u001b[32;1m\u001b[1;3mMATCH (m:Movie)-[:ACTED_IN]->(p:Person)\n",
      "WHERE m.title = 'Top Gun'\n",
      "RETURN p.name\u001b[0m\n",
      "Full Context:\n",
      "\u001b[32;1m\u001b[1;3m[]\u001b[0m\n",
      "\n",
      "\u001b[1m> Finished chain.\u001b[0m\n",
      "Intermediate steps: [{'query': \"MATCH (m:Movie)-[:ACTED_IN]->(p:Person)\\nWHERE m.title = 'Top Gun'\\nRETURN p.name\"}, {'context': []}]\n",
      "Final answer: I don't have information on that topic. However, I can tell you that the main cast of the 1986 film \"Top Gun\" included Tom Cruise, Kelly McGillis, Val Kilmer, and Anthony Edwards.\n"
     ]
    }
   ],
   "source": [
    "result = chain.invoke({\"query\": \"Who played in Top Gun?\"})\n",
    "print(f\"Intermediate steps: {result['intermediate_steps']}\")\n",
    "print(f\"Final answer: {result['result']}\")"
   ]
  },
  {
   "cell_type": "markdown",
   "id": "d6e1b054",
   "metadata": {},
   "source": [
    "## Return direct results\n",
    "You can return direct results from the Cypher QA Chain using the `return_direct` parameter"
   ]
  },
  {
   "cell_type": "code",
   "execution_count": 14,
   "id": "2d3acf10",
   "metadata": {},
   "outputs": [],
   "source": [
    "chain = GraphCypherQAChain.from_llm(\n",
    "    llm, graph=graph, verbose=True, return_direct=True\n",
    ")"
   ]
  },
  {
   "cell_type": "code",
   "execution_count": 15,
   "id": "b0a9d143",
   "metadata": {},
   "outputs": [
    {
     "name": "stdout",
     "output_type": "stream",
     "text": [
      "\n",
      "\n",
      "\u001b[1m> Entering new GraphCypherQAChain chain...\u001b[0m\n",
      "Generated Cypher:\n",
      "\u001b[32;1m\u001b[1;3mMATCH (m:Movie)-[:ACTED_IN]->(p:Person)\n",
      "WHERE m.title = 'Top Gun'\n",
      "RETURN p.name\u001b[0m\n",
      "\n",
      "\u001b[1m> Finished chain.\u001b[0m\n"
     ]
    },
    {
     "data": {
      "text/plain": [
       "{'query': 'Who played in Top Gun?', 'result': []}"
      ]
     },
     "execution_count": 15,
     "metadata": {},
     "output_type": "execute_result"
    }
   ],
   "source": [
    "chain.invoke({\"query\": \"Who played in Top Gun?\"})"
   ]
  },
  {
   "cell_type": "markdown",
   "id": "f01dfb72-24ec-4ae7-883a-ee6646889b59",
   "metadata": {},
   "source": [
    "## Add examples in the Cypher generation prompt\n",
    "You can define the Cypher statement you want the LLM to generate for particular questions"
   ]
  },
  {
   "cell_type": "code",
   "execution_count": 16,
   "id": "59baeb88-adfa-4c26-8334-fcbff3a98efb",
   "metadata": {},
   "outputs": [],
   "source": [
    "from langchain_core.prompts.prompt import PromptTemplate\n",
    "\n",
    "CYPHER_GENERATION_TEMPLATE = \"\"\"Task:Generate Cypher statement to query a graph database.\n",
    "Instructions:\n",
    "Use only the provided relationship types and properties in the schema.\n",
    "Do not use any other relationship types or properties that are not provided.\n",
    "Schema:\n",
    "{schema}\n",
    "Note: Do not include any explanations or apologies in your responses.\n",
    "Do not respond to any questions that might ask anything else than for you to construct a Cypher statement.\n",
    "Do not include any text except the generated Cypher statement.\n",
    "Examples: Here are a few examples of generated Cypher statements for particular questions:\n",
    "# How many people played in Top Gun?\n",
    "MATCH (m:Movie {{title:\"Top Gun\"}})<-[:ACTED_IN]-()\n",
    "RETURN count(*) AS numberOfActors\n",
    "\n",
    "The question is:\n",
    "{question}\"\"\"\n",
    "\n",
    "CYPHER_GENERATION_PROMPT = PromptTemplate(\n",
    "    input_variables=[\"schema\", \"question\"], template=CYPHER_GENERATION_TEMPLATE\n",
    ")\n",
    "\n",
    "chain = GraphCypherQAChain.from_llm(\n",
    "    llm,\n",
    "    graph=graph,\n",
    "    verbose=True,\n",
    "    cypher_prompt=CYPHER_GENERATION_PROMPT,\n",
    ")"
   ]
  },
  {
   "cell_type": "code",
   "execution_count": 17,
   "id": "47c64027-cf42-493a-9c76-2d10ba753728",
   "metadata": {},
   "outputs": [
    {
     "name": "stdout",
     "output_type": "stream",
     "text": [
      "\n",
      "\n",
      "\u001b[1m> Entering new GraphCypherQAChain chain...\u001b[0m\n",
      "Generated Cypher:\n",
      "\u001b[32;1m\u001b[1;3mMATCH (m:Movie {title:\"Top Gun\"})<-[:ACTED_IN]-()\n",
      "RETURN count(*) AS numberOfActors\u001b[0m\n",
      "Full Context:\n",
      "\u001b[32;1m\u001b[1;3m[{'numberOfActors': 6}]\u001b[0m\n",
      "\n",
      "\u001b[1m> Finished chain.\u001b[0m\n"
     ]
    },
    {
     "data": {
      "text/plain": [
       "{'query': 'How many people played in Top Gun?',\n",
       " 'result': 'Six people played in Top Gun.'}"
      ]
     },
     "execution_count": 17,
     "metadata": {},
     "output_type": "execute_result"
    }
   ],
   "source": [
    "chain.invoke({\"query\": \"How many people played in Top Gun?\"})"
   ]
  },
  {
   "cell_type": "markdown",
   "id": "3e721cad-aa87-4526-9231-2dfc0e365939",
   "metadata": {},
   "source": [
    "## Use separate LLMs for Cypher and answer generation\n",
    "You can use the `cypher_llm` and `qa_llm` parameters to define different llms"
   ]
  },
  {
   "cell_type": "code",
   "execution_count": 18,
   "id": "6f9becc2-f579-45bf-9b50-2ce02bde92da",
   "metadata": {},
   "outputs": [],
   "source": [
    "chain = GraphCypherQAChain.from_llm(\n",
    "    graph=graph,\n",
    "    cypher_llm=llm,\n",
    "    qa_llm=llm,\n",
    "    verbose=True,\n",
    ")"
   ]
  },
  {
   "cell_type": "code",
   "execution_count": 19,
   "id": "ff18e3e3-3402-4683-aec4-a19898f23ca1",
   "metadata": {},
   "outputs": [
    {
     "name": "stdout",
     "output_type": "stream",
     "text": [
      "\n",
      "\n",
      "\u001b[1m> Entering new GraphCypherQAChain chain...\u001b[0m\n",
      "Generated Cypher:\n",
      "\u001b[32;1m\u001b[1;3mMATCH (m:Movie)-[:ACTED_IN]->(p:Person)\n",
      "WHERE m.title = 'Top Gun'\n",
      "RETURN p.name\u001b[0m\n",
      "Full Context:\n",
      "\u001b[32;1m\u001b[1;3m[]\u001b[0m\n",
      "\n",
      "\u001b[1m> Finished chain.\u001b[0m\n"
     ]
    },
    {
     "data": {
      "text/plain": [
       "{'query': 'Who played in Top Gun?',\n",
       " 'result': 'I don\\'t have information on that topic. However, I can tell you that the main cast of the 1986 film \"Top Gun\" included Tom Cruise, Kelly McGillis, Val Kilmer, and Anthony Edwards.'}"
      ]
     },
     "execution_count": 19,
     "metadata": {},
     "output_type": "execute_result"
    }
   ],
   "source": [
    "chain.invoke({\"query\": \"Who played in Top Gun?\"})"
   ]
  },
  {
   "cell_type": "markdown",
   "id": "eefea16b-508f-4552-8942-9d5063ed7d37",
   "metadata": {},
   "source": [
    "## Ignore specified node and relationship types\n",
    "\n",
    "You can use `include_types` or `exclude_types` to ignore parts of the graph schema when generating Cypher statements."
   ]
  },
  {
   "cell_type": "code",
   "execution_count": 20,
   "id": "a20fa21e-fb85-41c4-aac0-53fb25e34604",
   "metadata": {},
   "outputs": [],
   "source": [
    "chain = GraphCypherQAChain.from_llm(\n",
    "    graph=graph,\n",
    "    cypher_llm=llm,\n",
    "    qa_llm=llm,\n",
    "    verbose=True,\n",
    "    exclude_types=[\"Movie\"],\n",
    ")"
   ]
  },
  {
   "cell_type": "code",
   "execution_count": 21,
   "id": "3ad7f6b8-543e-46e4-a3b2-40fa3e66e895",
   "metadata": {},
   "outputs": [
    {
     "name": "stdout",
     "output_type": "stream",
     "text": [
      "Node properties are the following:\n",
      "Person {born: INTEGER, name: STRING},Database {name: STRING},Message {name: STRING},Product {unitPrice: FLOAT, productName: STRING, unitsInStock: INTEGER, productID: STRING, reorderLevel: INTEGER, supplierID: STRING, categoryID: STRING, discontinued: BOOLEAN, unitsOnOrder: INTEGER, quantityPerUnit: STRING},Supplier {contactTitle: STRING, city: STRING, phone: STRING, address: STRING, companyName: STRING, supplierID: STRING, homePage: STRING, contactName: STRING, region: STRING, country: STRING, postalCode: STRING, fax: STRING},Genre {name: STRING},Actor {name: STRING}\n",
      "Relationship properties are the following:\n",
      "ACTED_IN {roles: LIST},REVIEWED {summary: STRING, rating: INTEGER}\n",
      "The relationships are the following:\n",
      "(:Person)-[:FOLLOWS]->(:Person),(:Database)-[:SAYS]->(:Message)\n"
     ]
    }
   ],
   "source": [
    "# Inspect graph schema\n",
    "print(chain.graph_schema)"
   ]
  },
  {
   "cell_type": "markdown",
   "id": "f0202e88-d700-40ed-aef9-0c969c7bf951",
   "metadata": {},
   "source": [
    "## Validate generated Cypher statements\n",
    "You can use the `validate_cypher` parameter to validate and correct relationship directions in generated Cypher statements"
   ]
  },
  {
   "cell_type": "code",
   "execution_count": 22,
   "id": "53665d03-7afd-433c-bdd5-750127bfb152",
   "metadata": {},
   "outputs": [],
   "source": [
    "chain = GraphCypherQAChain.from_llm(\n",
    "    llm=llm,\n",
    "    graph=graph,\n",
    "    verbose=True,\n",
    "    validate_cypher=True,\n",
    ")"
   ]
  },
  {
   "cell_type": "code",
   "execution_count": 23,
   "id": "19e1a591-9c10-4d7b-aa36-a5e1b778a97b",
   "metadata": {},
   "outputs": [
    {
     "name": "stdout",
     "output_type": "stream",
     "text": [
      "\n",
      "\n",
      "\u001b[1m> Entering new GraphCypherQAChain chain...\u001b[0m\n",
      "Generated Cypher:\n",
      "\u001b[32;1m\u001b[1;3mMATCH (m:Movie)<-[:ACTED_IN]-(p:Person)\n",
      "WHERE m.title = 'Top Gun'\n",
      "RETURN p.name\u001b[0m\n",
      "Full Context:\n",
      "\u001b[32;1m\u001b[1;3m[{'p.name': 'Val Kilmer'}, {'p.name': 'Meg Ryan'}, {'p.name': 'Tom Skerritt'}, {'p.name': 'Kelly McGillis'}, {'p.name': 'Tom Cruise'}, {'p.name': 'Anthony Edwards'}]\u001b[0m\n",
      "\n",
      "\u001b[1m> Finished chain.\u001b[0m\n"
     ]
    },
    {
     "data": {
      "text/plain": [
       "{'query': 'Who played in Top Gun?',\n",
       " 'result': 'Val Kilmer, Meg Ryan, Tom Skerritt, Kelly McGillis, Tom Cruise, and Anthony Edwards played in Top Gun.'}"
      ]
     },
     "execution_count": 23,
     "metadata": {},
     "output_type": "execute_result"
    }
   ],
   "source": [
    "chain.invoke({\"query\": \"Who played in Top Gun?\"})"
   ]
  },
  {
   "cell_type": "code",
   "execution_count": null,
   "id": "3fa3f3d5-f7e7-4ca9-8f07-ca22b897f192",
   "metadata": {},
   "outputs": [],
   "source": []
  }
 ],
 "metadata": {
  "kernelspec": {
   "display_name": "Python 3 (ipykernel)",
   "language": "python",
   "name": "python3"
  },
  "language_info": {
   "codemirror_mode": {
    "name": "ipython",
    "version": 3
   },
   "file_extension": ".py",
   "mimetype": "text/x-python",
   "name": "python",
   "nbconvert_exporter": "python",
   "pygments_lexer": "ipython3",
   "version": "3.12.3"
  }
 },
 "nbformat": 4,
 "nbformat_minor": 5
}
