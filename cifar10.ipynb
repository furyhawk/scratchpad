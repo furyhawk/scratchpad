{
 "cells": [
  {
   "cell_type": "code",
   "execution_count": 44,
   "metadata": {},
   "outputs": [],
   "source": [
    "import tensorflow as tf\n",
    "from tensorflow import keras\n",
    "from tensorflow.keras import datasets, layers, models\n",
    "from tensorflow.keras.layers import Dense, GlobalAveragePooling2D\n",
    "import matplotlib.pyplot as plt"
   ]
  },
  {
   "cell_type": "code",
   "execution_count": 8,
   "metadata": {},
   "outputs": [],
   "source": [
    "(train_images, train_labels), (test_images, test_labels) = datasets.cifar10.load_data()\n",
    "\n",
    "# Normalize pixel values to be between 0 and 1\n",
    "train_images, test_images = train_images / 255.0, test_images / 255.0"
   ]
  },
  {
   "cell_type": "code",
   "execution_count": 41,
   "metadata": {},
   "outputs": [
    {
     "name": "stdout",
     "output_type": "stream",
     "text": [
      "Model: \"sequential_14\"\n",
      "_________________________________________________________________\n",
      " Layer (type)                Output Shape              Param #   \n",
      "=================================================================\n",
      " conv2d_42 (Conv2D)          (None, 30, 30, 32)        896       \n",
      "                                                                 \n",
      " max_pooling2d_36 (MaxPoolin  (None, 15, 15, 32)       0         \n",
      " g2D)                                                            \n",
      "                                                                 \n",
      " conv2d_43 (Conv2D)          (None, 13, 13, 64)        18496     \n",
      "                                                                 \n",
      " max_pooling2d_37 (MaxPoolin  (None, 6, 6, 64)         0         \n",
      " g2D)                                                            \n",
      "                                                                 \n",
      " conv2d_44 (Conv2D)          (None, 4, 4, 128)         73856     \n",
      "                                                                 \n",
      " max_pooling2d_38 (MaxPoolin  (None, 2, 2, 128)        0         \n",
      " g2D)                                                            \n",
      "                                                                 \n",
      " global_average_pooling2d_6   (None, 128)              0         \n",
      " (GlobalAveragePooling2D)                                        \n",
      "                                                                 \n",
      " dense_16 (Dense)            (None, 128)               16512     \n",
      "                                                                 \n",
      " dense_17 (Dense)            (None, 10)                1290      \n",
      "                                                                 \n",
      "=================================================================\n",
      "Total params: 111,050\n",
      "Trainable params: 111,050\n",
      "Non-trainable params: 0\n",
      "_________________________________________________________________\n"
     ]
    }
   ],
   "source": [
    "model = models.Sequential()\n",
    "model.add(layers.Conv2D(32, (3, 3), activation='relu', input_shape=(32, 32, 3)))\n",
    "model.add(layers.MaxPooling2D((2, 2)))\n",
    "model.add(layers.Conv2D(64, (3, 3), activation='relu'))\n",
    "model.add(layers.MaxPooling2D((2, 2)))\n",
    "model.add(layers.Conv2D(128, (3, 3), activation='relu'))\n",
    "model.add(layers.MaxPooling2D((2, 2)))\n",
    "# model.add(layers.Conv1D(64, 2, activation='relu'))\n",
    "model.add(layers.GlobalAveragePooling2D())\n",
    "# model.add(layers.Flatten())\n",
    "# model.add(layers.Dense(128, activation=\"relu\"))\n",
    "model.add(layers.Dense(10, activation=\"softmax\"))\n",
    "model.summary(expand_nested=True)"
   ]
  },
  {
   "cell_type": "code",
   "execution_count": 42,
   "metadata": {},
   "outputs": [
    {
     "name": "stdout",
     "output_type": "stream",
     "text": [
      "Epoch 1/10\n",
      "   1/1563 [..............................] - ETA: 9:30 - loss: 2.3161 - accuracy: 0.0312"
     ]
    },
    {
     "name": "stderr",
     "output_type": "stream",
     "text": [
      "2023-02-22 21:15:56.344235: I tensorflow/core/grappler/optimizers/custom_graph_optimizer_registry.cc:114] Plugin optimizer for device_type GPU is enabled.\n"
     ]
    },
    {
     "name": "stdout",
     "output_type": "stream",
     "text": [
      "1563/1563 [==============================] - ETA: 0s - loss: 1.6536 - accuracy: 0.3809"
     ]
    },
    {
     "name": "stderr",
     "output_type": "stream",
     "text": [
      "2023-02-22 21:16:12.116970: I tensorflow/core/grappler/optimizers/custom_graph_optimizer_registry.cc:114] Plugin optimizer for device_type GPU is enabled.\n"
     ]
    },
    {
     "name": "stdout",
     "output_type": "stream",
     "text": [
      "1563/1563 [==============================] - 18s 11ms/step - loss: 1.6536 - accuracy: 0.3809 - val_loss: 1.4009 - val_accuracy: 0.4914\n",
      "Epoch 2/10\n",
      "1563/1563 [==============================] - 16s 10ms/step - loss: 1.2741 - accuracy: 0.5419 - val_loss: 1.1923 - val_accuracy: 0.5722\n",
      "Epoch 3/10\n",
      "1563/1563 [==============================] - 16s 10ms/step - loss: 1.1111 - accuracy: 0.6054 - val_loss: 1.0677 - val_accuracy: 0.6245\n",
      "Epoch 4/10\n",
      "1563/1563 [==============================] - 16s 10ms/step - loss: 1.0006 - accuracy: 0.6454 - val_loss: 0.9970 - val_accuracy: 0.6522\n",
      "Epoch 5/10\n",
      "1563/1563 [==============================] - 16s 10ms/step - loss: 0.9125 - accuracy: 0.6770 - val_loss: 0.9669 - val_accuracy: 0.6613\n",
      "Epoch 6/10\n",
      "1563/1563 [==============================] - 16s 10ms/step - loss: 0.8422 - accuracy: 0.7045 - val_loss: 0.8973 - val_accuracy: 0.6859\n",
      "Epoch 7/10\n",
      "1563/1563 [==============================] - 16s 10ms/step - loss: 0.7905 - accuracy: 0.7213 - val_loss: 0.8931 - val_accuracy: 0.6928\n",
      "Epoch 8/10\n",
      "1563/1563 [==============================] - 16s 10ms/step - loss: 0.7356 - accuracy: 0.7417 - val_loss: 0.9244 - val_accuracy: 0.6843\n",
      "Epoch 9/10\n",
      "1563/1563 [==============================] - 15s 10ms/step - loss: 0.6983 - accuracy: 0.7551 - val_loss: 0.8409 - val_accuracy: 0.7084\n",
      "Epoch 10/10\n",
      "1563/1563 [==============================] - 16s 10ms/step - loss: 0.6547 - accuracy: 0.7688 - val_loss: 0.8384 - val_accuracy: 0.7133\n"
     ]
    }
   ],
   "source": [
    "model.compile(optimizer='adam',\n",
    "              loss=tf.keras.losses.SparseCategoricalCrossentropy(from_logits=False),\n",
    "              metrics=['accuracy'])\n",
    "\n",
    "history = model.fit(train_images, train_labels, epochs=10, \n",
    "                    validation_data=(test_images, test_labels))"
   ]
  },
  {
   "cell_type": "code",
   "execution_count": 43,
   "metadata": {},
   "outputs": [
    {
     "name": "stdout",
     "output_type": "stream",
     "text": [
      "313/313 - 1s - loss: 0.8384 - accuracy: 0.7133 - 1s/epoch - 4ms/step\n",
      "0.7133000493049622\n"
     ]
    },
    {
     "data": {
      "image/png": "[encoded data removed]",
      "text/plain": [
       "<Figure size 640x480 with 1 Axes>"
      ]
     },
     "metadata": {},
     "output_type": "display_data"
    }
   ],
   "source": [
    "plt.plot(history.history['accuracy'], label='accuracy')\n",
    "plt.plot(history.history['val_accuracy'], label = 'val_accuracy')\n",
    "plt.xlabel('Epoch')\n",
    "plt.ylabel('Accuracy')\n",
    "plt.ylim([0.5, 1])\n",
    "plt.legend(loc='lower right')\n",
    "\n",
    "test_loss, test_acc = model.evaluate(test_images,  test_labels, verbose=2)\n",
    "print(test_acc)"
   ]
  },
  {
   "cell_type": "code",
   "execution_count": 47,
   "metadata": {},
   "outputs": [
    {
     "name": "stdout",
     "output_type": "stream",
     "text": [
      "Model: \"model_1\"\n",
      "__________________________________________________________________________________________________\n",
      " Layer (type)                   Output Shape         Param #     Connected to                     \n",
      "==================================================================================================\n",
      " input_2 (InputLayer)           [(None, 32, 32, 3)]  0           []                               \n",
      "                                                                                                  \n",
      " conv2d_54 (Conv2D)             (None, 32, 32, 32)   896         ['input_2[0][0]']                \n",
      "                                                                                                  \n",
      " conv2d_55 (Conv2D)             (None, 32, 32, 32)   9248        ['conv2d_54[0][0]']              \n",
      "                                                                                                  \n",
      " max_pooling2d_41 (MaxPooling2D  (None, 16, 16, 32)  0           ['conv2d_55[0][0]']              \n",
      " )                                                                                                \n",
      "                                                                                                  \n",
      " conv2d_56 (Conv2D)             (None, 16, 16, 32)   128         ['input_2[0][0]']                \n",
      "                                                                                                  \n",
      " add_3 (Add)                    (None, 16, 16, 32)   0           ['max_pooling2d_41[0][0]',       \n",
      "                                                                  'conv2d_56[0][0]']              \n",
      "                                                                                                  \n",
      " conv2d_57 (Conv2D)             (None, 16, 16, 64)   18496       ['add_3[0][0]']                  \n",
      "                                                                                                  \n",
      " conv2d_58 (Conv2D)             (None, 16, 16, 64)   36928       ['conv2d_57[0][0]']              \n",
      "                                                                                                  \n",
      " max_pooling2d_42 (MaxPooling2D  (None, 8, 8, 64)    0           ['conv2d_58[0][0]']              \n",
      " )                                                                                                \n",
      "                                                                                                  \n",
      " conv2d_59 (Conv2D)             (None, 8, 8, 64)     2112        ['add_3[0][0]']                  \n",
      "                                                                                                  \n",
      " add_4 (Add)                    (None, 8, 8, 64)     0           ['max_pooling2d_42[0][0]',       \n",
      "                                                                  'conv2d_59[0][0]']              \n",
      "                                                                                                  \n",
      " conv2d_60 (Conv2D)             (None, 8, 8, 128)    73856       ['add_4[0][0]']                  \n",
      "                                                                                                  \n",
      " conv2d_61 (Conv2D)             (None, 8, 8, 128)    147584      ['conv2d_60[0][0]']              \n",
      "                                                                                                  \n",
      " conv2d_62 (Conv2D)             (None, 8, 8, 128)    8320        ['add_4[0][0]']                  \n",
      "                                                                                                  \n",
      " add_5 (Add)                    (None, 8, 8, 128)    0           ['conv2d_61[0][0]',              \n",
      "                                                                  'conv2d_62[0][0]']              \n",
      "                                                                                                  \n",
      " global_average_pooling2d_8 (Gl  (None, 128)         0           ['add_5[0][0]']                  \n",
      " obalAveragePooling2D)                                                                            \n",
      "                                                                                                  \n",
      " dense_19 (Dense)               (None, 10)           1290        ['global_average_pooling2d_8[0][0\n",
      "                                                                 ]']                              \n",
      "                                                                                                  \n",
      "==================================================================================================\n",
      "Total params: 298,858\n",
      "Trainable params: 298,858\n",
      "Non-trainable params: 0\n",
      "__________________________________________________________________________________________________\n"
     ]
    }
   ],
   "source": [
    "inputs = keras.Input(shape=(32, 32, 3))\n",
    "\n",
    "def residual_block(x, filters, pooling=False):\n",
    "    residual = x\n",
    "    x = layers.Conv2D(filters, 3, activation=\"relu\", padding=\"same\")(x)\n",
    "    x = layers.Conv2D(filters, 3, activation=\"relu\", padding=\"same\")(x)\n",
    "    if pooling:\n",
    "        x = layers.MaxPooling2D(2, padding=\"same\")(x)\n",
    "        residual = layers.Conv2D(filters, 1, strides=2)(residual)\n",
    "    elif filters != residual.shape[-1]:\n",
    "        residual = layers.Conv2D(filters, 1)(residual)\n",
    "    x = layers.add([x, residual])\n",
    "    return x\n",
    "\n",
    "x = residual_block(inputs, filters=32, pooling=True)\n",
    "x = residual_block(x, filters=64, pooling=True)\n",
    "x = residual_block(x, filters=128, pooling=False)\n",
    "\n",
    "x = layers.GlobalAveragePooling2D()(x)\n",
    "\n",
    "outputs = layers.Dense(10, activation=\"softmax\")(x)\n",
    "model = keras.Model(inputs=inputs, outputs=outputs)\n",
    "model.summary()"
   ]
  },
  {
   "cell_type": "code",
   "execution_count": 48,
   "metadata": {},
   "outputs": [
    {
     "name": "stdout",
     "output_type": "stream",
     "text": [
      "Epoch 1/10\n"
     ]
    },
    {
     "name": "stderr",
     "output_type": "stream",
     "text": [
      "2023-02-22 22:07:39.182330: I tensorflow/core/grappler/optimizers/custom_graph_optimizer_registry.cc:114] Plugin optimizer for device_type GPU is enabled.\n"
     ]
    },
    {
     "name": "stdout",
     "output_type": "stream",
     "text": [
      "1563/1563 [==============================] - ETA: 0s - loss: 1.5173 - accuracy: 0.4399"
     ]
    },
    {
     "name": "stderr",
     "output_type": "stream",
     "text": [
      "2023-02-22 22:08:03.457111: I tensorflow/core/grappler/optimizers/custom_graph_optimizer_registry.cc:114] Plugin optimizer for device_type GPU is enabled.\n"
     ]
    },
    {
     "name": "stdout",
     "output_type": "stream",
     "text": [
      "1563/1563 [==============================] - 27s 17ms/step - loss: 1.5173 - accuracy: 0.4399 - val_loss: 1.1637 - val_accuracy: 0.5836\n",
      "Epoch 2/10\n",
      "1563/1563 [==============================] - 25s 16ms/step - loss: 1.0050 - accuracy: 0.6433 - val_loss: 0.9137 - val_accuracy: 0.6770\n",
      "Epoch 3/10\n",
      "1563/1563 [==============================] - 24s 16ms/step - loss: 0.7960 - accuracy: 0.7184 - val_loss: 0.7641 - val_accuracy: 0.7359\n",
      "Epoch 4/10\n",
      "1563/1563 [==============================] - 25s 16ms/step - loss: 0.6566 - accuracy: 0.7711 - val_loss: 0.6755 - val_accuracy: 0.7662\n",
      "Epoch 5/10\n",
      "1563/1563 [==============================] - 25s 16ms/step - loss: 0.5587 - accuracy: 0.8046 - val_loss: 0.6709 - val_accuracy: 0.7707\n",
      "Epoch 6/10\n",
      "1563/1563 [==============================] - 25s 16ms/step - loss: 0.4872 - accuracy: 0.8295 - val_loss: 0.6061 - val_accuracy: 0.7911\n",
      "Epoch 7/10\n",
      "1563/1563 [==============================] - 25s 16ms/step - loss: 0.4212 - accuracy: 0.8529 - val_loss: 0.6164 - val_accuracy: 0.8009\n",
      "Epoch 8/10\n",
      "1563/1563 [==============================] - 25s 16ms/step - loss: 0.3617 - accuracy: 0.8733 - val_loss: 0.6033 - val_accuracy: 0.8083\n",
      "Epoch 9/10\n",
      "1563/1563 [==============================] - 26s 16ms/step - loss: 0.3100 - accuracy: 0.8914 - val_loss: 0.6487 - val_accuracy: 0.8026\n",
      "Epoch 10/10\n",
      "1563/1563 [==============================] - 24s 16ms/step - loss: 0.2626 - accuracy: 0.9063 - val_loss: 0.6409 - val_accuracy: 0.8136\n",
      "313/313 - 2s - loss: 0.6409 - accuracy: 0.8136 - 2s/epoch - 7ms/step\n",
      "0.8136000633239746\n"
     ]
    },
    {
     "data": {
      "image/png": "[encoded data removed]",
      "text/plain": [
       "<Figure size 640x480 with 1 Axes>"
      ]
     },
     "metadata": {},
     "output_type": "display_data"
    }
   ],
   "source": [
    "model.compile(optimizer='adam',\n",
    "              loss=tf.keras.losses.SparseCategoricalCrossentropy(from_logits=False),\n",
    "              metrics=['accuracy'])\n",
    "\n",
    "history = model.fit(train_images, train_labels, epochs=10, \n",
    "                    validation_data=(test_images, test_labels))\n",
    "\n",
    "plt.plot(history.history['accuracy'], label='accuracy')\n",
    "plt.plot(history.history['val_accuracy'], label = 'val_accuracy')\n",
    "plt.xlabel('Epoch')\n",
    "plt.ylabel('Accuracy')\n",
    "plt.ylim([0.5, 1])\n",
    "plt.legend(loc='lower right')\n",
    "\n",
    "test_loss, test_acc = model.evaluate(test_images,  test_labels, verbose=2)\n",
    "print(test_acc)"
   ]
  },
  {
   "cell_type": "code",
   "execution_count": 49,
   "metadata": {},
   "outputs": [
    {
     "name": "stdout",
     "output_type": "stream",
     "text": [
      "Model: \"model_2\"\n",
      "__________________________________________________________________________________________________\n",
      " Layer (type)                   Output Shape         Param #     Connected to                     \n",
      "==================================================================================================\n",
      " input_3 (InputLayer)           [(None, 32, 32, 3)]  0           []                               \n",
      "                                                                                                  \n",
      " conv2d_63 (Conv2D)             (None, 28, 28, 32)   2400        ['input_3[0][0]']                \n",
      "                                                                                                  \n",
      " batch_normalization (BatchNorm  (None, 28, 28, 32)  128         ['conv2d_63[0][0]']              \n",
      " alization)                                                                                       \n",
      "                                                                                                  \n",
      " activation (Activation)        (None, 28, 28, 32)   0           ['batch_normalization[0][0]']    \n",
      "                                                                                                  \n",
      " separable_conv2d (SeparableCon  (None, 28, 28, 32)  1312        ['activation[0][0]']             \n",
      " v2D)                                                                                             \n",
      "                                                                                                  \n",
      " batch_normalization_1 (BatchNo  (None, 28, 28, 32)  128         ['separable_conv2d[0][0]']       \n",
      " rmalization)                                                                                     \n",
      "                                                                                                  \n",
      " activation_1 (Activation)      (None, 28, 28, 32)   0           ['batch_normalization_1[0][0]']  \n",
      "                                                                                                  \n",
      " separable_conv2d_1 (SeparableC  (None, 28, 28, 32)  1312        ['activation_1[0][0]']           \n",
      " onv2D)                                                                                           \n",
      "                                                                                                  \n",
      " max_pooling2d_43 (MaxPooling2D  (None, 14, 14, 32)  0           ['separable_conv2d_1[0][0]']     \n",
      " )                                                                                                \n",
      "                                                                                                  \n",
      " conv2d_64 (Conv2D)             (None, 14, 14, 32)   1024        ['conv2d_63[0][0]']              \n",
      "                                                                                                  \n",
      " add_6 (Add)                    (None, 14, 14, 32)   0           ['max_pooling2d_43[0][0]',       \n",
      "                                                                  'conv2d_64[0][0]']              \n",
      "                                                                                                  \n",
      " batch_normalization_2 (BatchNo  (None, 14, 14, 32)  128         ['add_6[0][0]']                  \n",
      " rmalization)                                                                                     \n",
      "                                                                                                  \n",
      " activation_2 (Activation)      (None, 14, 14, 32)   0           ['batch_normalization_2[0][0]']  \n",
      "                                                                                                  \n",
      " separable_conv2d_2 (SeparableC  (None, 14, 14, 64)  2336        ['activation_2[0][0]']           \n",
      " onv2D)                                                                                           \n",
      "                                                                                                  \n",
      " batch_normalization_3 (BatchNo  (None, 14, 14, 64)  256         ['separable_conv2d_2[0][0]']     \n",
      " rmalization)                                                                                     \n",
      "                                                                                                  \n",
      " activation_3 (Activation)      (None, 14, 14, 64)   0           ['batch_normalization_3[0][0]']  \n",
      "                                                                                                  \n",
      " separable_conv2d_3 (SeparableC  (None, 14, 14, 64)  4672        ['activation_3[0][0]']           \n",
      " onv2D)                                                                                           \n",
      "                                                                                                  \n",
      " max_pooling2d_44 (MaxPooling2D  (None, 7, 7, 64)    0           ['separable_conv2d_3[0][0]']     \n",
      " )                                                                                                \n",
      "                                                                                                  \n",
      " conv2d_65 (Conv2D)             (None, 7, 7, 64)     2048        ['add_6[0][0]']                  \n",
      "                                                                                                  \n",
      " add_7 (Add)                    (None, 7, 7, 64)     0           ['max_pooling2d_44[0][0]',       \n",
      "                                                                  'conv2d_65[0][0]']              \n",
      "                                                                                                  \n",
      " batch_normalization_4 (BatchNo  (None, 7, 7, 64)    256         ['add_7[0][0]']                  \n",
      " rmalization)                                                                                     \n",
      "                                                                                                  \n",
      " activation_4 (Activation)      (None, 7, 7, 64)     0           ['batch_normalization_4[0][0]']  \n",
      "                                                                                                  \n",
      " separable_conv2d_4 (SeparableC  (None, 7, 7, 128)   8768        ['activation_4[0][0]']           \n",
      " onv2D)                                                                                           \n",
      "                                                                                                  \n",
      " batch_normalization_5 (BatchNo  (None, 7, 7, 128)   512         ['separable_conv2d_4[0][0]']     \n",
      " rmalization)                                                                                     \n",
      "                                                                                                  \n",
      " activation_5 (Activation)      (None, 7, 7, 128)    0           ['batch_normalization_5[0][0]']  \n",
      "                                                                                                  \n",
      " separable_conv2d_5 (SeparableC  (None, 7, 7, 128)   17536       ['activation_5[0][0]']           \n",
      " onv2D)                                                                                           \n",
      "                                                                                                  \n",
      " max_pooling2d_45 (MaxPooling2D  (None, 4, 4, 128)   0           ['separable_conv2d_5[0][0]']     \n",
      " )                                                                                                \n",
      "                                                                                                  \n",
      " conv2d_66 (Conv2D)             (None, 4, 4, 128)    8192        ['add_7[0][0]']                  \n",
      "                                                                                                  \n",
      " add_8 (Add)                    (None, 4, 4, 128)    0           ['max_pooling2d_45[0][0]',       \n",
      "                                                                  'conv2d_66[0][0]']              \n",
      "                                                                                                  \n",
      " batch_normalization_6 (BatchNo  (None, 4, 4, 128)   512         ['add_8[0][0]']                  \n",
      " rmalization)                                                                                     \n",
      "                                                                                                  \n",
      " activation_6 (Activation)      (None, 4, 4, 128)    0           ['batch_normalization_6[0][0]']  \n",
      "                                                                                                  \n",
      " separable_conv2d_6 (SeparableC  (None, 4, 4, 256)   33920       ['activation_6[0][0]']           \n",
      " onv2D)                                                                                           \n",
      "                                                                                                  \n",
      " batch_normalization_7 (BatchNo  (None, 4, 4, 256)   1024        ['separable_conv2d_6[0][0]']     \n",
      " rmalization)                                                                                     \n",
      "                                                                                                  \n",
      " activation_7 (Activation)      (None, 4, 4, 256)    0           ['batch_normalization_7[0][0]']  \n",
      "                                                                                                  \n",
      " separable_conv2d_7 (SeparableC  (None, 4, 4, 256)   67840       ['activation_7[0][0]']           \n",
      " onv2D)                                                                                           \n",
      "                                                                                                  \n",
      " max_pooling2d_46 (MaxPooling2D  (None, 2, 2, 256)   0           ['separable_conv2d_7[0][0]']     \n",
      " )                                                                                                \n",
      "                                                                                                  \n",
      " conv2d_67 (Conv2D)             (None, 2, 2, 256)    32768       ['add_8[0][0]']                  \n",
      "                                                                                                  \n",
      " add_9 (Add)                    (None, 2, 2, 256)    0           ['max_pooling2d_46[0][0]',       \n",
      "                                                                  'conv2d_67[0][0]']              \n",
      "                                                                                                  \n",
      " batch_normalization_8 (BatchNo  (None, 2, 2, 256)   1024        ['add_9[0][0]']                  \n",
      " rmalization)                                                                                     \n",
      "                                                                                                  \n",
      " activation_8 (Activation)      (None, 2, 2, 256)    0           ['batch_normalization_8[0][0]']  \n",
      "                                                                                                  \n",
      " separable_conv2d_8 (SeparableC  (None, 2, 2, 512)   133376      ['activation_8[0][0]']           \n",
      " onv2D)                                                                                           \n",
      "                                                                                                  \n",
      " batch_normalization_9 (BatchNo  (None, 2, 2, 512)   2048        ['separable_conv2d_8[0][0]']     \n",
      " rmalization)                                                                                     \n",
      "                                                                                                  \n",
      " activation_9 (Activation)      (None, 2, 2, 512)    0           ['batch_normalization_9[0][0]']  \n",
      "                                                                                                  \n",
      " separable_conv2d_9 (SeparableC  (None, 2, 2, 512)   266752      ['activation_9[0][0]']           \n",
      " onv2D)                                                                                           \n",
      "                                                                                                  \n",
      " max_pooling2d_47 (MaxPooling2D  (None, 1, 1, 512)   0           ['separable_conv2d_9[0][0]']     \n",
      " )                                                                                                \n",
      "                                                                                                  \n",
      " conv2d_68 (Conv2D)             (None, 1, 1, 512)    131072      ['add_9[0][0]']                  \n",
      "                                                                                                  \n",
      " add_10 (Add)                   (None, 1, 1, 512)    0           ['max_pooling2d_47[0][0]',       \n",
      "                                                                  'conv2d_68[0][0]']              \n",
      "                                                                                                  \n",
      " global_average_pooling2d_9 (Gl  (None, 512)         0           ['add_10[0][0]']                 \n",
      " obalAveragePooling2D)                                                                            \n",
      "                                                                                                  \n",
      " dropout (Dropout)              (None, 512)          0           ['global_average_pooling2d_9[0][0\n",
      "                                                                 ]']                              \n",
      "                                                                                                  \n",
      " dense_20 (Dense)               (None, 10)           5130        ['dropout[0][0]']                \n",
      "                                                                                                  \n",
      "==================================================================================================\n",
      "Total params: 726,474\n",
      "Trainable params: 723,466\n",
      "Non-trainable params: 3,008\n",
      "__________________________________________________________________________________________________\n"
     ]
    }
   ],
   "source": [
    "inputs = keras.Input(shape=(32, 32, 3))\n",
    "\n",
    "x = layers.Conv2D(filters=32, kernel_size=5, use_bias=False)(inputs)\n",
    "\n",
    "for size in [32, 64, 128, 256, 512]:\n",
    "    residual = x\n",
    "\n",
    "    x = layers.BatchNormalization()(x)\n",
    "    x = layers.Activation(\"relu\")(x)\n",
    "    x = layers.SeparableConv2D(size, 3, padding=\"same\", use_bias=False)(x)\n",
    "\n",
    "    x = layers.BatchNormalization()(x)\n",
    "    x = layers.Activation(\"relu\")(x)\n",
    "    x = layers.SeparableConv2D(size, 3, padding=\"same\", use_bias=False)(x)\n",
    "\n",
    "    x = layers.MaxPooling2D(3, strides=2, padding=\"same\")(x)\n",
    "\n",
    "    residual = layers.Conv2D(\n",
    "        size, 1, strides=2, padding=\"same\", use_bias=False)(residual)\n",
    "    x = layers.add([x, residual])\n",
    "\n",
    "x = layers.GlobalAveragePooling2D()(x)\n",
    "x = layers.Dropout(0.5)(x)\n",
    "outputs = layers.Dense(10, activation=\"softmax\")(x)\n",
    "model = keras.Model(inputs=inputs, outputs=outputs)\n",
    "model.summary()"
   ]
  },
  {
   "cell_type": "code",
   "execution_count": 50,
   "metadata": {},
   "outputs": [
    {
     "name": "stdout",
     "output_type": "stream",
     "text": [
      "Epoch 1/10\n"
     ]
    },
    {
     "name": "stderr",
     "output_type": "stream",
     "text": [
      "2023-02-22 22:12:20.108281: I tensorflow/core/grappler/optimizers/custom_graph_optimizer_registry.cc:114] Plugin optimizer for device_type GPU is enabled.\n"
     ]
    },
    {
     "name": "stdout",
     "output_type": "stream",
     "text": [
      "1563/1563 [==============================] - ETA: 0s - loss: 1.3738 - accuracy: 0.5004"
     ]
    },
    {
     "name": "stderr",
     "output_type": "stream",
     "text": [
      "2023-02-22 22:13:01.829155: I tensorflow/core/grappler/optimizers/custom_graph_optimizer_registry.cc:114] Plugin optimizer for device_type GPU is enabled.\n"
     ]
    },
    {
     "name": "stdout",
     "output_type": "stream",
     "text": [
      "1563/1563 [==============================] - 46s 27ms/step - loss: 1.3738 - accuracy: 0.5004 - val_loss: 1.4625 - val_accuracy: 0.5005\n",
      "Epoch 2/10\n",
      "1563/1563 [==============================] - 38s 24ms/step - loss: 1.0013 - accuracy: 0.6476 - val_loss: 1.4070 - val_accuracy: 0.5338\n",
      "Epoch 3/10\n",
      "1563/1563 [==============================] - 37s 24ms/step - loss: 0.8507 - accuracy: 0.7025 - val_loss: 1.1267 - val_accuracy: 0.6268\n",
      "Epoch 4/10\n",
      "1563/1563 [==============================] - 37s 24ms/step - loss: 0.7529 - accuracy: 0.7375 - val_loss: 0.9088 - val_accuracy: 0.6925\n",
      "Epoch 5/10\n",
      "1563/1563 [==============================] - 37s 24ms/step - loss: 0.6836 - accuracy: 0.7632 - val_loss: 0.8207 - val_accuracy: 0.7219\n",
      "Epoch 6/10\n",
      "1563/1563 [==============================] - 38s 24ms/step - loss: 0.6310 - accuracy: 0.7798 - val_loss: 0.7241 - val_accuracy: 0.7525\n",
      "Epoch 7/10\n",
      "1563/1563 [==============================] - 37s 24ms/step - loss: 0.5794 - accuracy: 0.7980 - val_loss: 0.8613 - val_accuracy: 0.7156\n",
      "Epoch 8/10\n",
      "1563/1563 [==============================] - 37s 24ms/step - loss: 0.5393 - accuracy: 0.8129 - val_loss: 0.7409 - val_accuracy: 0.7459\n",
      "Epoch 9/10\n",
      "1563/1563 [==============================] - 37s 24ms/step - loss: 0.4982 - accuracy: 0.8262 - val_loss: 0.7661 - val_accuracy: 0.7456\n",
      "Epoch 10/10\n",
      "1563/1563 [==============================] - 38s 24ms/step - loss: 0.4697 - accuracy: 0.8367 - val_loss: 0.7713 - val_accuracy: 0.7471\n",
      "313/313 - 3s - loss: 0.7713 - accuracy: 0.7471 - 3s/epoch - 9ms/step\n",
      "0.7471000552177429\n"
     ]
    },
    {
     "data": {
      "image/png": "[encoded data removed]",
      "text/plain": [
       "<Figure size 640x480 with 1 Axes>"
      ]
     },
     "metadata": {},
     "output_type": "display_data"
    }
   ],
   "source": [
    "model.compile(optimizer='adam',\n",
    "              loss=tf.keras.losses.SparseCategoricalCrossentropy(from_logits=False),\n",
    "              metrics=['accuracy'])\n",
    "\n",
    "history = model.fit(train_images, train_labels, epochs=10, \n",
    "                    validation_data=(test_images, test_labels))\n",
    "\n",
    "plt.plot(history.history['accuracy'], label='accuracy')\n",
    "plt.plot(history.history['val_accuracy'], label = 'val_accuracy')\n",
    "plt.xlabel('Epoch')\n",
    "plt.ylabel('Accuracy')\n",
    "plt.ylim([0.5, 1])\n",
    "plt.legend(loc='lower right')\n",
    "\n",
    "test_loss, test_acc = model.evaluate(test_images,  test_labels, verbose=2)\n",
    "print(test_acc)"
   ]
  },
  {
   "cell_type": "code",
   "execution_count": 8,
   "metadata": {},
   "outputs": [
    {
     "name": "stdout",
     "output_type": "stream",
     "text": [
      "Metal device set to: Apple M1 Pro\n",
      "\n",
      "systemMemory: 16.00 GB\n",
      "maxCacheSize: 5.33 GB\n",
      "\n"
     ]
    },
    {
     "name": "stderr",
     "output_type": "stream",
     "text": [
      "2023-02-12 10:37:26.301095: I tensorflow/core/common_runtime/pluggable_device/pluggable_device_factory.cc:306] Could not identify NUMA node of platform GPU ID 0, defaulting to 0. Your kernel may not have been built with NUMA support.\n",
      "2023-02-12 10:37:26.301219: I tensorflow/core/common_runtime/pluggable_device/pluggable_device_factory.cc:272] Created TensorFlow device (/job:localhost/replica:0/task:0/device:GPU:0 with 0 MB memory) -> physical PluggableDevice (device: 0, name: METAL, pci bus id: <undefined>)\n"
     ]
    },
    {
     "name": "stdout",
     "output_type": "stream",
     "text": [
      "Model: \"model\"\n",
      "_________________________________________________________________\n",
      " Layer (type)                Output Shape              Param #   \n",
      "=================================================================\n",
      " input_2 (InputLayer)        [(None, 32, 32, 3)]       0         \n",
      "                                                                 \n",
      " vgg16 (Functional)          (None, 1, 1, 512)         14714688  \n",
      "                                                                 \n",
      " global_average_pooling2d (G  (None, 512)              0         \n",
      " lobalAveragePooling2D)                                          \n",
      "                                                                 \n",
      " dense (Dense)               (None, 10)                5130      \n",
      "                                                                 \n",
      "=================================================================\n",
      "Total params: 14,719,818\n",
      "Trainable params: 5,130\n",
      "Non-trainable params: 14,714,688\n",
      "_________________________________________________________________\n"
     ]
    }
   ],
   "source": [
    "# input_shape = (\n",
    "#     32,\n",
    "#     32,\n",
    "#     3,\n",
    "# )\n",
    "# base_model = tf.keras.applications.vgg16.VGG16(\n",
    "#     include_top=False,\n",
    "#     weights=\"imagenet\",\n",
    "#     input_shape=input_shape,\n",
    "# )\n",
    "# base_model.trainable = False\n",
    "\n",
    "# inputs = tf.keras.Input(shape=input_shape)\n",
    "# prediction_layer = tf.keras.layers.Dense(10, activation=\"softmax\")\n",
    "\n",
    "# # chain up the layers\n",
    "# # x = tf.cast(inputs, tf.float32)\n",
    "# x = tf.keras.applications.vgg16.preprocess_input(inputs)\n",
    "# x = base_model(x, training=False)\n",
    "# x = GlobalAveragePooling2D()(x)\n",
    "# # let's add a fully-connected layer\n",
    "# # x = Dense(1024, activation='relu')(x)\n",
    "# outputs = prediction_layer(x)\n",
    "# model = tf.keras.Model(inputs=[inputs], outputs=[outputs])\n",
    "\n",
    "# model.summary()\n"
   ]
  },
  {
   "cell_type": "code",
   "execution_count": 9,
   "metadata": {},
   "outputs": [
    {
     "name": "stdout",
     "output_type": "stream",
     "text": [
      "Epoch 1/12\n"
     ]
    },
    {
     "name": "stderr",
     "output_type": "stream",
     "text": [
      "2023-02-12 10:37:27.099342: W tensorflow/core/platform/profile_utils/cpu_utils.cc:128] Failed to get CPU frequency: 0 Hz\n",
      "2023-02-12 10:37:27.292711: I tensorflow/core/grappler/optimizers/custom_graph_optimizer_registry.cc:114] Plugin optimizer for device_type GPU is enabled.\n"
     ]
    },
    {
     "name": "stdout",
     "output_type": "stream",
     "text": [
      "1563/1563 [==============================] - ETA: 0s - loss: 1.5378 - accuracy: 0.4783"
     ]
    },
    {
     "name": "stderr",
     "output_type": "stream",
     "text": [
      "2023-02-12 10:37:48.196249: I tensorflow/core/grappler/optimizers/custom_graph_optimizer_registry.cc:114] Plugin optimizer for device_type GPU is enabled.\n"
     ]
    },
    {
     "name": "stdout",
     "output_type": "stream",
     "text": [
      "1563/1563 [==============================] - 25s 16ms/step - loss: 1.5378 - accuracy: 0.4783 - val_loss: 1.3743 - val_accuracy: 0.5284\n",
      "Epoch 2/12\n",
      "1563/1563 [==============================] - 24s 15ms/step - loss: 1.3097 - accuracy: 0.5529 - val_loss: 1.3031 - val_accuracy: 0.5521\n",
      "Epoch 3/12\n",
      "1563/1563 [==============================] - 24s 15ms/step - loss: 1.2506 - accuracy: 0.5721 - val_loss: 1.2651 - val_accuracy: 0.5630\n",
      "Epoch 4/12\n",
      "1563/1563 [==============================] - 24s 15ms/step - loss: 1.2183 - accuracy: 0.5823 - val_loss: 1.2462 - val_accuracy: 0.5709\n",
      "Epoch 5/12\n",
      "1563/1563 [==============================] - 24s 15ms/step - loss: 1.1959 - accuracy: 0.5890 - val_loss: 1.2306 - val_accuracy: 0.5739\n",
      "Epoch 6/12\n",
      "1563/1563 [==============================] - 24s 15ms/step - loss: 1.1800 - accuracy: 0.5951 - val_loss: 1.2173 - val_accuracy: 0.5800\n",
      "Epoch 7/12\n",
      "1563/1563 [==============================] - 24s 15ms/step - loss: 1.1692 - accuracy: 0.5979 - val_loss: 1.2141 - val_accuracy: 0.5795\n",
      "Epoch 8/12\n",
      "1563/1563 [==============================] - 24s 15ms/step - loss: 1.1590 - accuracy: 0.6017 - val_loss: 1.2024 - val_accuracy: 0.5839\n",
      "Epoch 9/12\n",
      "1563/1563 [==============================] - 24s 16ms/step - loss: 1.1521 - accuracy: 0.6024 - val_loss: 1.2082 - val_accuracy: 0.5823\n",
      "Epoch 10/12\n",
      "1563/1563 [==============================] - 24s 15ms/step - loss: 1.1447 - accuracy: 0.6049 - val_loss: 1.1964 - val_accuracy: 0.5836\n",
      "Epoch 11/12\n",
      "1563/1563 [==============================] - 24s 16ms/step - loss: 1.1407 - accuracy: 0.6063 - val_loss: 1.1989 - val_accuracy: 0.5833\n",
      "Epoch 12/12\n",
      "1563/1563 [==============================] - 24s 16ms/step - loss: 1.1359 - accuracy: 0.6082 - val_loss: 1.1958 - val_accuracy: 0.5853\n"
     ]
    }
   ],
   "source": [
    "# model.compile(optimizer=tf.keras.optimizers.Adam(),\n",
    "#               loss=tf.keras.losses.SparseCategoricalCrossentropy(from_logits=False),\n",
    "#               metrics=['accuracy'])\n",
    "\n",
    "# history = model.fit(train_images, train_labels, epochs=12, \n",
    "#                     validation_data=(test_images, test_labels))"
   ]
  },
  {
   "cell_type": "code",
   "execution_count": 10,
   "metadata": {},
   "outputs": [
    {
     "name": "stdout",
     "output_type": "stream",
     "text": [
      "313/313 - 3s - loss: 1.1958 - accuracy: 0.5853 - 3s/epoch - 11ms/step\n"
     ]
    },
    {
     "data": {
      "image/png": "[encoded data removed]",
      "text/plain": [
       "<Figure size 640x480 with 1 Axes>"
      ]
     },
     "metadata": {},
     "output_type": "display_data"
    }
   ],
   "source": [
    "# plt.plot(history.history['accuracy'], label='accuracy')\n",
    "# plt.plot(history.history['val_accuracy'], label = 'val_accuracy')\n",
    "# plt.xlabel('Epoch')\n",
    "# plt.ylabel('Accuracy')\n",
    "# plt.ylim([0.5, 1])\n",
    "# plt.legend(loc='lower right')\n",
    "\n",
    "# test_loss, test_acc = model.evaluate(test_images,  test_labels, verbose=2)"
   ]
  },
  {
   "cell_type": "code",
   "execution_count": 11,
   "metadata": {},
   "outputs": [
    {
     "name": "stdout",
     "output_type": "stream",
     "text": [
      "0.5853000283241272\n"
     ]
    }
   ],
   "source": [
    "# print(test_acc)"
   ]
  },
  {
   "cell_type": "code",
   "execution_count": 13,
   "metadata": {},
   "outputs": [
    {
     "name": "stdout",
     "output_type": "stream",
     "text": [
      "Model: \"model\"\n",
      "_________________________________________________________________\n",
      " Layer (type)                Output Shape              Param #   \n",
      "=================================================================\n",
      " input_2 (InputLayer)        [(None, 32, 32, 3)]       0         \n",
      "                                                                 \n",
      " vgg16 (Functional)          (None, 1, 1, 512)         14714688  \n",
      "                                                                 \n",
      " global_average_pooling2d (G  (None, 512)              0         \n",
      " lobalAveragePooling2D)                                          \n",
      "                                                                 \n",
      " dense (Dense)               (None, 10)                5130      \n",
      "                                                                 \n",
      "=================================================================\n",
      "Total params: 14,719,818\n",
      "Trainable params: 14,719,818\n",
      "Non-trainable params: 0\n",
      "_________________________________________________________________\n",
      "Epoch 1/5\n"
     ]
    },
    {
     "name": "stderr",
     "output_type": "stream",
     "text": [
      "2023-02-12 10:59:30.980743: I tensorflow/core/grappler/optimizers/custom_graph_optimizer_registry.cc:114] Plugin optimizer for device_type GPU is enabled.\n"
     ]
    },
    {
     "name": "stdout",
     "output_type": "stream",
     "text": [
      "1563/1563 [==============================] - ETA: 0s - loss: 0.3190 - accuracy: 0.8858"
     ]
    },
    {
     "name": "stderr",
     "output_type": "stream",
     "text": [
      "2023-02-12 11:00:17.342007: I tensorflow/core/grappler/optimizers/custom_graph_optimizer_registry.cc:114] Plugin optimizer for device_type GPU is enabled.\n"
     ]
    },
    {
     "name": "stdout",
     "output_type": "stream",
     "text": [
      "1563/1563 [==============================] - 50s 32ms/step - loss: 0.3190 - accuracy: 0.8858 - val_loss: 0.5553 - val_accuracy: 0.8163\n",
      "Epoch 2/5\n",
      "1563/1563 [==============================] - 49s 31ms/step - loss: 0.2273 - accuracy: 0.9196 - val_loss: 0.5387 - val_accuracy: 0.8268\n",
      "Epoch 3/5\n",
      "1563/1563 [==============================] - 49s 31ms/step - loss: 0.1627 - accuracy: 0.9435 - val_loss: 0.5644 - val_accuracy: 0.8265\n",
      "Epoch 4/5\n",
      "1563/1563 [==============================] - 50s 32ms/step - loss: 0.1180 - accuracy: 0.9606 - val_loss: 0.6229 - val_accuracy: 0.8267\n",
      "Epoch 5/5\n",
      "1563/1563 [==============================] - 49s 31ms/step - loss: 0.0810 - accuracy: 0.9738 - val_loss: 0.6609 - val_accuracy: 0.8231\n"
     ]
    }
   ],
   "source": [
    "# # Unfreeze the base model\n",
    "# base_model.trainable = True\n",
    "# model.summary()\n",
    "\n",
    "# model.compile(\n",
    "#     optimizer=tf.keras.optimizers.Adam(1e-5),\n",
    "#     loss=tf.keras.losses.SparseCategoricalCrossentropy(from_logits=False),\n",
    "#     metrics=[\"accuracy\"],\n",
    "# )\n",
    "\n",
    "# history = model.fit(\n",
    "#     train_images, train_labels, epochs=5, validation_data=(test_images, test_labels)\n",
    "# )\n"
   ]
  },
  {
   "cell_type": "code",
   "execution_count": null,
   "metadata": {},
   "outputs": [],
   "source": []
  }
 ],
 "metadata": {
  "kernelspec": {
   "display_name": "train",
   "language": "python",
   "name": "python3"
  },
  "language_info": {
   "codemirror_mode": {
    "name": "ipython",
    "version": 3
   },
   "file_extension": ".py",
   "mimetype": "text/x-python",
   "name": "python",
   "nbconvert_exporter": "python",
   "pygments_lexer": "ipython3",
   "version": "3.10.8"
  },
  "orig_nbformat": 4,
  "vscode": {
   "interpreter": {
    "hash": "1acd9ee5c5bab15f7273df084afe797a621b6ddf34701f53604929eaea96c2cd"
   }
  }
 },
 "nbformat": 4,
 "nbformat_minor": 2
}
