{
 "cells": [
  {
   "cell_type": "code",
   "execution_count": 13,
   "metadata": {},
   "outputs": [
    {
     "name": "stdout",
     "output_type": "stream",
     "text": [
      "The autoreload extension is already loaded. To reload it, use:\n",
      "  %reload_ext autoreload\n"
     ]
    }
   ],
   "source": [
    "%load_ext autoreload\n",
    "%autoreload 2"
   ]
  },
  {
   "cell_type": "code",
   "execution_count": 14,
   "metadata": {},
   "outputs": [],
   "source": [
    "import os\n",
    "from typing import Any, Literal\n",
    "from math import ceil\n",
    "import time\n",
    "import datetime\n",
    "import random\n",
    "\n",
    "from dataclasses import dataclass\n",
    "\n",
    "import requests\n",
    "from requests import Response\n",
    "from bs4 import BeautifulSoup\n",
    "import pandas as pd\n",
    "\n",
    "from tqdm import tqdm\n",
    "import webscraping_lib\n",
    "\n",
    "from omegaconf import MISSING, OmegaConf, DictConfig\n",
    "from hydra import initialize, initialize_config_module, initialize_config_dir, compose\n",
    "from hydra.core.config_store import ConfigStore\n"
   ]
  },
  {
   "cell_type": "code",
   "execution_count": 15,
   "metadata": {},
   "outputs": [],
   "source": [
    "@dataclass\n",
    "class Config:\n",
    "    web: webscraping_lib.CompaniesMarketCapConfig = MISSING\n",
    "    debug: bool = False\n",
    "\n",
    "\n",
    "cs: ConfigStore = ConfigStore.instance()\n",
    "cs.store(name=\"base_config\", node=Config)\n",
    "\n",
    "# database_lib registers its configs\n",
    "# in database_lib/web\n",
    "webscraping_lib.register_configs()\n"
   ]
  },
  {
   "cell_type": "code",
   "execution_count": 16,
   "metadata": {},
   "outputs": [
    {
     "name": "stdout",
     "output_type": "stream",
     "text": [
      "{'web': {'user_agent': 'Mozilla/5.0 (Windows NT 10.0; Win64; x64; rv:92.0) Gecko/20100101 Firefox/92.0', 'parser': 'lxml', 'companies_url': 'https://companiesmarketcap.com/?page=', 'ticker_url': 'https://finance.yahoo.com/quote/', 'output_filename': '_companies_', 'max_companies': 10}, 'debug': True}\n"
     ]
    }
   ],
   "source": [
    "with initialize(version_base=None, config_path=\"conf\"):\n",
    "    CFG: DictConfig = compose(config_name=\"config\")\n",
    "    print(CFG)\n"
   ]
  },
  {
   "cell_type": "code",
   "execution_count": 17,
   "metadata": {},
   "outputs": [],
   "source": [
    "def float_or_na(value: Any) -> float | Literal[0]:\n",
    "    try:\n",
    "        return float(value)\n",
    "    except (ValueError, TypeError):\n",
    "        return 0\n"
   ]
  },
  {
   "cell_type": "code",
   "execution_count": 18,
   "metadata": {},
   "outputs": [],
   "source": [
    "def get_url_page(\n",
    "    url_link, user_agent=CFG.web.user_agent, parser=CFG.web.parser\n",
    ") -> BeautifulSoup | Literal[\"\"]:\n",
    "    \"\"\"This accepts an URL as a parameter,\n",
    "    accesses and loads the webpage into a variable\n",
    "    retuns a document of the type BeautifulSoup\"\"\"\n",
    "\n",
    "    # uses requests function to access and load the web page\n",
    "    stock_page_response: Response = requests.get(\n",
    "        url_link, headers={\"user-agent\": user_agent}\n",
    "    )\n",
    "\n",
    "    if not stock_page_response.ok:\n",
    "        print(\n",
    "            \"Status code for {}: {}\".format(url_link, stock_page_response.status_code)\n",
    "        )\n",
    "        # raise Exception('Failed to fetch web page ' + url_link)\n",
    "        return \"\"\n",
    "\n",
    "    # If the status code is success , the page is sent through html parser and builds a parsed document.\n",
    "    stock_page_doc: BeautifulSoup = BeautifulSoup(stock_page_response.text, parser)\n",
    "\n",
    "    # Returns a beautifulSoup document.\n",
    "    return stock_page_doc\n"
   ]
  },
  {
   "cell_type": "code",
   "execution_count": 19,
   "metadata": {},
   "outputs": [],
   "source": [
    "def get_stocks(num_stocks: int = 10, cfg=CFG):\n",
    "    \"\"\"\n",
    "    This functions builds a list of most popular stock symbols.\n",
    "    Returns the list of N number of popular stocks\n",
    "    \"\"\"\n",
    "    # Get the number of pages to access based on the number of stocks that need to be processed. each page has 100 stocks\n",
    "    page_numbers: int = int((lambda x: 1 if x < 1 else ceil(x / 100))(num_stocks))\n",
    "\n",
    "    stocks_symbols = []\n",
    "    for page_number in range(1, page_numbers + 1):\n",
    "        popular_stocks_url = cfg.web.companies_url + str(page_number) + \"/\"\n",
    "\n",
    "        print(\"Web Page: \", popular_stocks_url)\n",
    "        # Call the function 'get_url_page' and get parsed html document\n",
    "        stocks_symbols_tags = get_url_page(popular_stocks_url).find_all(\n",
    "            \"div\", {\"class\": \"company-code\"}\n",
    "        )\n",
    "\n",
    "        # Extract ticker symbol name from the tag 'div' in the document\n",
    "        for stocks_symbols_tag in stocks_symbols_tags:\n",
    "            stocks_symbols.append(stocks_symbols_tag.text.strip())\n",
    "\n",
    "    # Return the list with N stocks\n",
    "    return stocks_symbols[:num_stocks]\n"
   ]
  },
  {
   "cell_type": "code",
   "execution_count": 20,
   "metadata": {},
   "outputs": [],
   "source": [
    "def get_name_n_symbol(companyName: str) -> tuple[str, str]:\n",
    "    \"\"\"\n",
    "    A Helper function to accept Name and returns company Name and ticker symbol\n",
    "    \"\"\"\n",
    "    cName: list[str] = companyName.split(\"(\")\n",
    "    return cName[-2].strip(), cName[-1].strip(\")\")\n",
    "\n",
    "\n",
    "def get_ticker_details(ticker_symbol: str):\n",
    "    \"\"\"\n",
    "    This function accepts the ticker symbol,\n",
    "    gets the html parsed document, finds appropriate tags and its value(text)\n",
    "    massages the data and returns stocks details as a python Dictionary\n",
    "    \"\"\"\n",
    "    # time.sleep(random.uniform(0, 1))\n",
    "    # print(\"Processing : \", ticker_symbol)\n",
    "    ticker_url: str = \"https://finance.yahoo.com/quote/\" + ticker_symbol\n",
    "\n",
    "    # get html parsed document.\n",
    "    stock_page_doc: BeautifulSoup | Literal[\"\"] = get_url_page(ticker_url)\n",
    "\n",
    "    if len(stock_page_doc) == 0:\n",
    "        return \"\"\n",
    "\n",
    "    # Use find function of BeatufulSoup objet to get the values of the tags\n",
    "    # Use helper function get_name_n_symbol to extract company name and ticker symbol from the h1 name\n",
    "    cName, ticker = get_name_n_symbol(stock_page_doc.h1.text)\n",
    "    MarketPrice = stock_page_doc.find(\n",
    "        \"fin-streamer\",\n",
    "        {\"class\": \"Fw(b) Fz(36px) Mb(-4px) D(ib)\", \"data-field\": \"regularMarketPrice\"},\n",
    "    ).text.replace(\",\", \"\")\n",
    "    previousClosePrice = stock_page_doc.find(\n",
    "        \"td\", {\"class\": \"Ta(end) Fw(600) Lh(14px)\", \"data-test\": \"PREV_CLOSE-value\"}\n",
    "    ).text.replace(\",\", \"\")\n",
    "    Volume = stock_page_doc.find(\n",
    "        \"td\", {\"class\": \"Ta(end) Fw(600) Lh(14px)\", \"data-test\": \"TD_VOLUME-value\"}\n",
    "    ).text.replace(\",\", \"\")\n",
    "    pe_ratio = stock_page_doc.find(\n",
    "        \"td\", {\"class\": \"Ta(end) Fw(600) Lh(14px)\", \"data-test\": \"PE_RATIO-value\"}\n",
    "    ).text.replace(\",\", \"\")\n",
    "    eps_ratio = stock_page_doc.find(\n",
    "        \"td\", {\"class\": \"Ta(end) Fw(600) Lh(14px)\", \"data-test\": \"EPS_RATIO-value\"}\n",
    "    ).text.replace(\",\", \"\")\n",
    "\n",
    "    # Some of the stocks(ex.S&P) does not have market capital, using lambda function to replace such vaules with 0\n",
    "    MarketCap = (lambda x: x.text.replace(\",\", \"\") if x != None else \"0\")(\n",
    "        stock_page_doc.find(\n",
    "            \"td\", {\"class\": \"Ta(end) Fw(600) Lh(14px)\", \"data-test\": \"MARKET_CAP-value\"}\n",
    "        )\n",
    "    )\n",
    "\n",
    "    ticker_dict = {\n",
    "        \"Company\": cName.replace(\",\", \"\"),\n",
    "        \"Symbol\": ticker,\n",
    "        \"Marketprice\": float_or_na(MarketPrice),\n",
    "        \"previousClosePrice\": float_or_na(previousClosePrice),\n",
    "        \"changeInPrice\": round(\n",
    "            float_or_na(MarketPrice) - float_or_na(previousClosePrice), 2\n",
    "        ),\n",
    "        \"pe_ratio\": float_or_na(pe_ratio),\n",
    "        \"eps_ratio\": float_or_na(eps_ratio),\n",
    "        \"Volume\": int(Volume),\n",
    "        \"MarketCap\": MarketCap,\n",
    "    }\n",
    "\n",
    "    # Return Dictionary with stock details\n",
    "    return ticker_dict\n"
   ]
  },
  {
   "cell_type": "code",
   "execution_count": 21,
   "metadata": {},
   "outputs": [],
   "source": [
    "def write_csv(dict_items, file_name: str) -> None:\n",
    "    \"\"\"\n",
    "    Accepts list of python dictionary with stock details and write it to a csv file\n",
    "    Prints success message upon completing the writing to the file\n",
    "    \"\"\"\n",
    "\n",
    "    # open the file for writing\n",
    "    with open(file_name, \"w\") as f:\n",
    "\n",
    "        # Get headers(keys) of the first dictionary from the list. Convert to a list, join each element of the list\n",
    "        # with ',' to form a string and write to the file.\n",
    "        headers = list(dict_items[0].keys())\n",
    "        f.write(\",\".join(headers) + \"\\n\")\n",
    "\n",
    "        # For each Dictionary item, create a list with values and write it to the file\n",
    "        for dict_item in dict_items:\n",
    "            values = []\n",
    "            for header in headers:\n",
    "                try:\n",
    "                    values.append(str(dict_item.get(header, \"\")))\n",
    "                except:\n",
    "                    pass\n",
    "            f.write(\",\".join(values) + \"\\n\")\n",
    "\n",
    "    print(\"Writing to file '{}' completed\".format(file_name))\n"
   ]
  },
  {
   "cell_type": "code",
   "execution_count": 22,
   "metadata": {},
   "outputs": [],
   "source": [
    "def verify_results(file_name: str) -> None:\n",
    "    \"\"\"\n",
    "    This Function verifies the File Output.\n",
    "    Accepts file name as the parameter and displays sample output and row count.\n",
    "    \"\"\"\n",
    "\n",
    "    # Create the dataFrame with the csv file\n",
    "    stocks_df: pd.DataFrame = pd.read_csv(file_name)\n",
    "\n",
    "    # print a record count of a single column\n",
    "    print(\"\")\n",
    "    print(\"Checking Output written to the file\")\n",
    "    print(\"---------------------------------------\")\n",
    "    print(\"Number of records written to the file : \", stocks_df.count()[1])\n",
    "    print(\"\")\n",
    "    # print a sample output of first 4 rows in the file alson with its headers\n",
    "    print(\"Sample Output : \")\n",
    "    display(stocks_df.head(4))\n"
   ]
  },
  {
   "cell_type": "code",
   "execution_count": 23,
   "metadata": {},
   "outputs": [],
   "source": [
    "def scrape_stocks_info(num_stocks: int = 10, cfg=CFG) -> None:\n",
    "    \"\"\"\n",
    "    This function Accepts number of stocks to be processed and writes the stock information to a file\n",
    "    \"\"\"\n",
    "\n",
    "    # Gets List of popular stocks and passes them to the function 'get_ticker_details' one by one.\n",
    "    # This is return a list of dictionaries with stock details.\n",
    "    print(\"Start processing Stock symbols...\")\n",
    "    stocks_info = []\n",
    "    pbar = tqdm(get_stocks(num_stocks=num_stocks, cfg=cfg))\n",
    "    for ticker_name in pbar:\n",
    "        pbar.set_description(f\"Processing {ticker_name}\")\n",
    "        stocks_info.append(get_ticker_details(ticker_name))\n",
    "    # stocks_info = [\n",
    "    #     get_ticker_details(ticker_name)\n",
    "    #     for ticker_name in tqdm(get_popular_stocks(num_stocks=num_stocks, cfg=cfg))\n",
    "    # ]\n",
    "    print(\"End processing Stock symbols...\")\n",
    "\n",
    "    # Pass the list of dictionies to the 'write_csv' function which writes it to the file.\n",
    "    today: datetime = datetime.datetime.now()\n",
    "    file_name: str = (\n",
    "        str(num_stocks) + cfg.web.output_filename + today.strftime(\"%Y-%m-%d\") + \".csv\"\n",
    "    )\n",
    "    write_csv(stocks_info, file_name)\n",
    "\n",
    "    # Verify Results:\n",
    "    verify_results(file_name)\n"
   ]
  },
  {
   "cell_type": "code",
   "execution_count": 24,
   "metadata": {},
   "outputs": [
    {
     "name": "stdout",
     "output_type": "stream",
     "text": [
      "Start processing Stock symbols...\n",
      "Web Page:  https://companiesmarketcap.com/?page=1/\n"
     ]
    },
    {
     "name": "stderr",
     "output_type": "stream",
     "text": [
      "Processing V: 100%|██████████| 10/10 [00:09<00:00,  1.09it/s]     "
     ]
    },
    {
     "name": "stdout",
     "output_type": "stream",
     "text": [
      "End processing Stock symbols...\n",
      "Writing to file '10_companies_2022-12-31.csv' completed\n",
      "\n",
      "Checking Output written to the file\n",
      "---------------------------------------\n",
      "Number of records written to the file :  10\n",
      "\n",
      "Sample Output : \n"
     ]
    },
    {
     "name": "stderr",
     "output_type": "stream",
     "text": [
      "\n"
     ]
    },
    {
     "data": {
      "text/html": [
       "<div>\n",
       "<style scoped>\n",
       "    .dataframe tbody tr th:only-of-type {\n",
       "        vertical-align: middle;\n",
       "    }\n",
       "\n",
       "    .dataframe tbody tr th {\n",
       "        vertical-align: top;\n",
       "    }\n",
       "\n",
       "    .dataframe thead th {\n",
       "        text-align: right;\n",
       "    }\n",
       "</style>\n",
       "<table border=\"1\" class=\"dataframe\">\n",
       "  <thead>\n",
       "    <tr style=\"text-align: right;\">\n",
       "      <th></th>\n",
       "      <th>Company</th>\n",
       "      <th>Symbol</th>\n",
       "      <th>Marketprice</th>\n",
       "      <th>previousClosePrice</th>\n",
       "      <th>changeInPrice</th>\n",
       "      <th>pe_ratio</th>\n",
       "      <th>eps_ratio</th>\n",
       "      <th>Volume</th>\n",
       "      <th>MarketCap</th>\n",
       "    </tr>\n",
       "  </thead>\n",
       "  <tbody>\n",
       "    <tr>\n",
       "      <th>0</th>\n",
       "      <td>Apple Inc.</td>\n",
       "      <td>AAPL</td>\n",
       "      <td>129.93</td>\n",
       "      <td>129.61</td>\n",
       "      <td>0.32</td>\n",
       "      <td>21.27</td>\n",
       "      <td>6.11</td>\n",
       "      <td>76874922</td>\n",
       "      <td>2.067T</td>\n",
       "    </tr>\n",
       "    <tr>\n",
       "      <th>1</th>\n",
       "      <td>Saudi Arabian Oil Company</td>\n",
       "      <td>2222.SR</td>\n",
       "      <td>32.10</td>\n",
       "      <td>32.20</td>\n",
       "      <td>-0.10</td>\n",
       "      <td>17.83</td>\n",
       "      <td>1.80</td>\n",
       "      <td>5222570</td>\n",
       "      <td>7.059T</td>\n",
       "    </tr>\n",
       "    <tr>\n",
       "      <th>2</th>\n",
       "      <td>Microsoft Corporation</td>\n",
       "      <td>MSFT</td>\n",
       "      <td>239.82</td>\n",
       "      <td>241.01</td>\n",
       "      <td>-1.19</td>\n",
       "      <td>25.81</td>\n",
       "      <td>9.29</td>\n",
       "      <td>21938472</td>\n",
       "      <td>1.788T</td>\n",
       "    </tr>\n",
       "    <tr>\n",
       "      <th>3</th>\n",
       "      <td>Alphabet Inc.</td>\n",
       "      <td>GOOG</td>\n",
       "      <td>88.73</td>\n",
       "      <td>88.95</td>\n",
       "      <td>-0.22</td>\n",
       "      <td>17.16</td>\n",
       "      <td>5.17</td>\n",
       "      <td>19169187</td>\n",
       "      <td>1.145T</td>\n",
       "    </tr>\n",
       "  </tbody>\n",
       "</table>\n",
       "</div>"
      ],
      "text/plain": [
       "                     Company   Symbol  Marketprice  previousClosePrice  \\\n",
       "0                 Apple Inc.     AAPL       129.93              129.61   \n",
       "1  Saudi Arabian Oil Company  2222.SR        32.10               32.20   \n",
       "2      Microsoft Corporation     MSFT       239.82              241.01   \n",
       "3              Alphabet Inc.     GOOG        88.73               88.95   \n",
       "\n",
       "   changeInPrice  pe_ratio  eps_ratio    Volume MarketCap  \n",
       "0           0.32     21.27       6.11  76874922    2.067T  \n",
       "1          -0.10     17.83       1.80   5222570    7.059T  \n",
       "2          -1.19     25.81       9.29  21938472    1.788T  \n",
       "3          -0.22     17.16       5.17  19169187    1.145T  "
      ]
     },
     "metadata": {},
     "output_type": "display_data"
    }
   ],
   "source": [
    "scrape_stocks_info(num_stocks=CFG.web.max_companies, cfg=CFG)\n"
   ]
  }
 ],
 "metadata": {
  "kernelspec": {
   "display_name": "web",
   "language": "python",
   "name": "python3"
  },
  "language_info": {
   "codemirror_mode": {
    "name": "ipython",
    "version": 3
   },
   "file_extension": ".py",
   "mimetype": "text/x-python",
   "name": "python",
   "nbconvert_exporter": "python",
   "pygments_lexer": "ipython3",
   "version": "3.11.0 | packaged by conda-forge | (main, Oct 25 2022, 06:21:25) [Clang 14.0.4 ]"
  },
  "orig_nbformat": 4,
  "vscode": {
   "interpreter": {
    "hash": "00968a83fdbadceeeaca14778d242361e50370bb5e5f1c4741075fe3ebcdf4fe"
   }
  }
 },
 "nbformat": 4,
 "nbformat_minor": 2
}
