{
 "cells": [
  {
   "cell_type": "code",
   "execution_count": 1,
   "metadata": {},
   "outputs": [
    {
     "ename": "NameError",
     "evalue": "name 'reveal_type' is not defined",
     "output_type": "error",
     "traceback": [
      "\u001b[0;31m---------------------------------------------------------------------------\u001b[0m",
      "\u001b[0;31mNameError\u001b[0m                                 Traceback (most recent call last)",
      "Cell \u001b[0;32mIn[1], line 6\u001b[0m\n\u001b[1;32m      1\u001b[0m \u001b[39mfrom\u001b[39;00m \u001b[39mtyping\u001b[39;00m \u001b[39mimport\u001b[39;00m Union, Any, Optional, TYPE_CHECKING, cast\n\u001b[1;32m      3\u001b[0m \u001b[39m# To find out what type mypy infers for an expression anywhere in\u001b[39;00m\n\u001b[1;32m      4\u001b[0m \u001b[39m# your program, wrap it in reveal_type().  Mypy will print an error\u001b[39;00m\n\u001b[1;32m      5\u001b[0m \u001b[39m# message with the type; remove it again before running the code.\u001b[39;00m\n\u001b[0;32m----> 6\u001b[0m reveal_type(\u001b[39m1\u001b[39m)  \u001b[39m# Revealed type is \"builtins.int\"\u001b[39;00m\n\u001b[1;32m      8\u001b[0m \u001b[39m# If you initialize a variable with an empty container or \"None\"\u001b[39;00m\n\u001b[1;32m      9\u001b[0m \u001b[39m# you may have to help mypy a bit by providing an explicit type annotation\u001b[39;00m\n\u001b[1;32m     10\u001b[0m x: \u001b[39mlist\u001b[39m[\u001b[39mstr\u001b[39m] \u001b[39m=\u001b[39m []\n",
      "\u001b[0;31mNameError\u001b[0m: name 'reveal_type' is not defined"
     ]
    }
   ],
   "source": [
    "from typing import Union, Any, Optional, TYPE_CHECKING, cast\n",
    "\n",
    "# To find out what type mypy infers for an expression anywhere in\n",
    "# your program, wrap it in reveal_type().  Mypy will print an error\n",
    "# message with the type; remove it again before running the code.\n",
    "reveal_type(1)  # Revealed type is \"builtins.int\"\n",
    "\n",
    "# If you initialize a variable with an empty container or \"None\"\n",
    "# you may have to help mypy a bit by providing an explicit type annotation\n",
    "x: list[str] = []\n",
    "x: Optional[str] = None\n",
    "\n",
    "# Use Any if you don't know the type of something or it's too\n",
    "# dynamic to write a type for\n",
    "x: Any = mystery_function()\n",
    "# Mypy will let you do anything with x!\n",
    "x.whatever() * x[\"you\"] + x(\"want\") - any(x) and all(x) is super  # no errors\n",
    "\n",
    "# Use a \"type: ignore\" comment to suppress errors on a given line,\n",
    "# when your code confuses mypy or runs into an outright bug in mypy.\n",
    "# Good practice is to add a comment explaining the issue.\n",
    "x = confusing_function()  # type: ignore  # confusing_function won't return None here because ...\n",
    "\n",
    "# \"cast\" is a helper function that lets you override the inferred\n",
    "# type of an expression. It's only for mypy -- there's no runtime check.\n",
    "a = [4]\n",
    "b = cast(list[int], a)  # Passes fine\n",
    "c = cast(list[str], a)  # Passes fine despite being a lie (no runtime check)\n",
    "reveal_type(c)  # Revealed type is \"builtins.list[builtins.str]\"\n",
    "print(c)  # Still prints [4] ... the object is not changed or casted at runtime\n",
    "\n",
    "# Use \"TYPE_CHECKING\" if you want to have code that mypy can see but will not\n",
    "# be executed at runtime (or to have code that mypy can't see)\n",
    "if TYPE_CHECKING:\n",
    "    import json\n",
    "else:\n",
    "    import orjson as json  # mypy is unaware of this"
   ]
  }
 ],
 "metadata": {
  "kernelspec": {
   "display_name": "train",
   "language": "python",
   "name": "python3"
  },
  "language_info": {
   "codemirror_mode": {
    "name": "ipython",
    "version": 3
   },
   "file_extension": ".py",
   "mimetype": "text/x-python",
   "name": "python",
   "nbconvert_exporter": "python",
   "pygments_lexer": "ipython3",
   "version": "3.10.8"
  },
  "orig_nbformat": 4,
  "vscode": {
   "interpreter": {
    "hash": "1acd9ee5c5bab15f7273df084afe797a621b6ddf34701f53604929eaea96c2cd"
   }
  }
 },
 "nbformat": 4,
 "nbformat_minor": 2
}
