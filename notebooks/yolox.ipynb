{
 "cells": [
  {
   "cell_type": "code",
   "execution_count": 62,
   "metadata": {},
   "outputs": [],
   "source": [
    "from typing import Any, Dict, List, Optional, Tuple, Union\n",
    "from pathlib import Path\n",
    "\n",
    "import pandas as pd"
   ]
  },
  {
   "cell_type": "code",
   "execution_count": 63,
   "metadata": {},
   "outputs": [],
   "source": [
    "def return_list_of_files(\n",
    "    directory: Union[str, Path],\n",
    "    extensions: Optional[List[str]] = None,\n",
    "    return_string: bool = True,\n",
    ") -> Union[List[str], List[Path]]:\n",
    "    \"\"\"Returns a list of files in a directory based on extensions.\n",
    "    If extensions is None, all files are returned.\n",
    "\n",
    "    Note:\n",
    "        all_image_extensions = [\".jpg\", \".jpeg\", \".png\", \".ppm\", \".bmp\", \".pgm\", \".tif\"]\n",
    "\n",
    "    Args:\n",
    "        directory (Union[str, Path]): The directory to search.\n",
    "        extensions (Optional[List[str]]): The extension of the files to search for.\n",
    "            Defaults to None.\n",
    "        return_string (bool): Whether to return a list of strings or Paths.\n",
    "            Defaults to True.\n",
    "\n",
    "    Returns:\n",
    "        List[str, Path]: List of files in the directory.\n",
    "    \"\"\"\n",
    "    if isinstance(directory, str):\n",
    "        directory = Path(directory)\n",
    "\n",
    "    if extensions is None and return_string:\n",
    "        return [\n",
    "            f.as_posix()\n",
    "            for f in directory.resolve().glob(\"[!__]*/**/[!__]*\")\n",
    "            if f.is_file()\n",
    "        ]\n",
    "\n",
    "    if extensions is None and not return_string:\n",
    "        return [f for f in directory.resolve().glob(\"[!__]*/**/[!__]*\") if f.is_file()]\n",
    "\n",
    "    if return_string:\n",
    "        list_of_files = sorted(\n",
    "            [\n",
    "                path.as_posix()\n",
    "                for path in filter(\n",
    "                    lambda path: path.suffix in extensions,\n",
    "                    directory.glob(\"[!__]*/**/[!__]*\"),\n",
    "                )\n",
    "            ]\n",
    "        )\n",
    "    else:\n",
    "        list_of_files = sorted(\n",
    "            filter(\n",
    "                lambda path: path.suffix in extensions,\n",
    "                directory.glob(\"[!__]*/**/[!__]*\"),\n",
    "            )\n",
    "        )\n",
    "    return list_of_files"
   ]
  },
  {
   "cell_type": "code",
   "execution_count": 64,
   "metadata": {},
   "outputs": [],
   "source": [
    "train_dir: Path = Path(\"../datasets/coco2017/image/\")\n",
    "train_images = return_list_of_files(\n",
    "    train_dir, extensions=[\".jpg\", \".png\", \".jpeg\"], return_string=True\n",
    ")\n"
   ]
  },
  {
   "cell_type": "code",
   "execution_count": 65,
   "metadata": {},
   "outputs": [
    {
     "data": {
      "text/plain": [
       "118287"
      ]
     },
     "execution_count": 65,
     "metadata": {},
     "output_type": "execute_result"
    }
   ],
   "source": [
    "len(train_images)"
   ]
  },
  {
   "cell_type": "code",
   "execution_count": 66,
   "metadata": {},
   "outputs": [],
   "source": [
    "train_dir: Path = Path(\"../datasets/coco2017/labels/\")\n",
    "train_labels = return_list_of_files(\n",
    "    train_dir, extensions=[\".txt\"], return_string=True\n",
    ")"
   ]
  },
  {
   "cell_type": "code",
   "execution_count": 67,
   "metadata": {},
   "outputs": [
    {
     "data": {
      "text/plain": [
       "122218"
      ]
     },
     "execution_count": 67,
     "metadata": {},
     "output_type": "execute_result"
    }
   ],
   "source": [
    "len(train_labels)"
   ]
  },
  {
   "cell_type": "code",
   "execution_count": 68,
   "metadata": {},
   "outputs": [],
   "source": [
    "train_images.sort()\n",
    "train_labels.sort()"
   ]
  },
  {
   "cell_type": "code",
   "execution_count": 71,
   "metadata": {},
   "outputs": [],
   "source": [
    "df = pd.DataFrame({\"image_path\": train_images})\n",
    "df_label = pd.DataFrame({\"annotation_path\": train_labels})\n"
   ]
  },
  {
   "cell_type": "code",
   "execution_count": 73,
   "metadata": {},
   "outputs": [
    {
     "data": {
      "text/html": [
       "<div>\n",
       "<style scoped>\n",
       "    .dataframe tbody tr th:only-of-type {\n",
       "        vertical-align: middle;\n",
       "    }\n",
       "\n",
       "    .dataframe tbody tr th {\n",
       "        vertical-align: top;\n",
       "    }\n",
       "\n",
       "    .dataframe thead th {\n",
       "        text-align: right;\n",
       "    }\n",
       "</style>\n",
       "<table border=\"1\" class=\"dataframe\">\n",
       "  <thead>\n",
       "    <tr style=\"text-align: right;\">\n",
       "      <th></th>\n",
       "      <th>annotation_path</th>\n",
       "    </tr>\n",
       "  </thead>\n",
       "  <tbody>\n",
       "    <tr>\n",
       "      <th>0</th>\n",
       "      <td>../datasets/coco2017/labels/train2017/train/00...</td>\n",
       "    </tr>\n",
       "    <tr>\n",
       "      <th>1</th>\n",
       "      <td>../datasets/coco2017/labels/train2017/train/00...</td>\n",
       "    </tr>\n",
       "    <tr>\n",
       "      <th>2</th>\n",
       "      <td>../datasets/coco2017/labels/train2017/train/00...</td>\n",
       "    </tr>\n",
       "    <tr>\n",
       "      <th>3</th>\n",
       "      <td>../datasets/coco2017/labels/train2017/train/00...</td>\n",
       "    </tr>\n",
       "    <tr>\n",
       "      <th>4</th>\n",
       "      <td>../datasets/coco2017/labels/train2017/train/00...</td>\n",
       "    </tr>\n",
       "    <tr>\n",
       "      <th>...</th>\n",
       "      <td>...</td>\n",
       "    </tr>\n",
       "    <tr>\n",
       "      <th>122213</th>\n",
       "      <td>../datasets/coco2017/labels/val2017/0000005813...</td>\n",
       "    </tr>\n",
       "    <tr>\n",
       "      <th>122214</th>\n",
       "      <td>../datasets/coco2017/labels/val2017/0000005813...</td>\n",
       "    </tr>\n",
       "    <tr>\n",
       "      <th>122215</th>\n",
       "      <td>../datasets/coco2017/labels/val2017/0000005814...</td>\n",
       "    </tr>\n",
       "    <tr>\n",
       "      <th>122216</th>\n",
       "      <td>../datasets/coco2017/labels/val2017/0000005816...</td>\n",
       "    </tr>\n",
       "    <tr>\n",
       "      <th>122217</th>\n",
       "      <td>../datasets/coco2017/labels/val2017/0000005817...</td>\n",
       "    </tr>\n",
       "  </tbody>\n",
       "</table>\n",
       "<p>122218 rows × 1 columns</p>\n",
       "</div>"
      ],
      "text/plain": [
       "                                          annotation_path\n",
       "0       ../datasets/coco2017/labels/train2017/train/00...\n",
       "1       ../datasets/coco2017/labels/train2017/train/00...\n",
       "2       ../datasets/coco2017/labels/train2017/train/00...\n",
       "3       ../datasets/coco2017/labels/train2017/train/00...\n",
       "4       ../datasets/coco2017/labels/train2017/train/00...\n",
       "...                                                   ...\n",
       "122213  ../datasets/coco2017/labels/val2017/0000005813...\n",
       "122214  ../datasets/coco2017/labels/val2017/0000005813...\n",
       "122215  ../datasets/coco2017/labels/val2017/0000005814...\n",
       "122216  ../datasets/coco2017/labels/val2017/0000005816...\n",
       "122217  ../datasets/coco2017/labels/val2017/0000005817...\n",
       "\n",
       "[122218 rows x 1 columns]"
      ]
     },
     "execution_count": 73,
     "metadata": {},
     "output_type": "execute_result"
    }
   ],
   "source": [
    "df_label"
   ]
  },
  {
   "cell_type": "code",
   "execution_count": 94,
   "metadata": {},
   "outputs": [],
   "source": [
    "df[\"id\"]=df[\"image_path\"].str.extract(r\"(\\d+)(?!.*\\d)\", expand=False)"
   ]
  },
  {
   "cell_type": "code",
   "execution_count": 96,
   "metadata": {},
   "outputs": [],
   "source": [
    "df_label[\"id\"]=df_label[\"annotation_path\"].str.extract(r\"(\\d+)(?!.*\\d)\", expand=False)"
   ]
  },
  {
   "cell_type": "code",
   "execution_count": 80,
   "metadata": {},
   "outputs": [
    {
     "data": {
      "text/plain": [
       "0         data/coco2017/image/train2017/000000000009.jpg\n",
       "1         data/coco2017/image/train2017/000000000025.jpg\n",
       "2         data/coco2017/image/train2017/000000000030.jpg\n",
       "3         data/coco2017/image/train2017/000000000034.jpg\n",
       "4         data/coco2017/image/train2017/000000000036.jpg\n",
       "                               ...                      \n",
       "118282    data/coco2017/image/train2017/000000581906.jpg\n",
       "118283    data/coco2017/image/train2017/000000581909.jpg\n",
       "118284    data/coco2017/image/train2017/000000581913.jpg\n",
       "118285    data/coco2017/image/train2017/000000581921.jpg\n",
       "118286    data/coco2017/image/train2017/000000581929.jpg\n",
       "Name: image_path, Length: 118287, dtype: object"
      ]
     },
     "execution_count": 80,
     "metadata": {},
     "output_type": "execute_result"
    }
   ],
   "source": [
    "df[\"image_path\"]"
   ]
  },
  {
   "cell_type": "code",
   "execution_count": 74,
   "metadata": {},
   "outputs": [],
   "source": [
    "df[\"image_path\"] = df[\"image_path\"].str.replace(\n",
    "    pat=\"../datasets\", repl=\"data\", regex=False\n",
    ")\n"
   ]
  },
  {
   "cell_type": "code",
   "execution_count": 75,
   "metadata": {},
   "outputs": [],
   "source": [
    "df_label[\"annotation_path\"] = df_label[\"annotation_path\"].str.replace(\n",
    "    pat=\"../datasets\", repl=\"data\", regex=False\n",
    ")"
   ]
  },
  {
   "cell_type": "code",
   "execution_count": 76,
   "metadata": {},
   "outputs": [
    {
     "data": {
      "text/html": [
       "<div>\n",
       "<style scoped>\n",
       "    .dataframe tbody tr th:only-of-type {\n",
       "        vertical-align: middle;\n",
       "    }\n",
       "\n",
       "    .dataframe tbody tr th {\n",
       "        vertical-align: top;\n",
       "    }\n",
       "\n",
       "    .dataframe thead th {\n",
       "        text-align: right;\n",
       "    }\n",
       "</style>\n",
       "<table border=\"1\" class=\"dataframe\">\n",
       "  <thead>\n",
       "    <tr style=\"text-align: right;\">\n",
       "      <th></th>\n",
       "      <th>image_path</th>\n",
       "    </tr>\n",
       "  </thead>\n",
       "  <tbody>\n",
       "    <tr>\n",
       "      <th>0</th>\n",
       "      <td>data/coco2017/image/train2017/000000000009.jpg</td>\n",
       "    </tr>\n",
       "    <tr>\n",
       "      <th>1</th>\n",
       "      <td>data/coco2017/image/train2017/000000000025.jpg</td>\n",
       "    </tr>\n",
       "    <tr>\n",
       "      <th>2</th>\n",
       "      <td>data/coco2017/image/train2017/000000000030.jpg</td>\n",
       "    </tr>\n",
       "    <tr>\n",
       "      <th>3</th>\n",
       "      <td>data/coco2017/image/train2017/000000000034.jpg</td>\n",
       "    </tr>\n",
       "    <tr>\n",
       "      <th>4</th>\n",
       "      <td>data/coco2017/image/train2017/000000000036.jpg</td>\n",
       "    </tr>\n",
       "    <tr>\n",
       "      <th>...</th>\n",
       "      <td>...</td>\n",
       "    </tr>\n",
       "    <tr>\n",
       "      <th>118282</th>\n",
       "      <td>data/coco2017/image/train2017/000000581906.jpg</td>\n",
       "    </tr>\n",
       "    <tr>\n",
       "      <th>118283</th>\n",
       "      <td>data/coco2017/image/train2017/000000581909.jpg</td>\n",
       "    </tr>\n",
       "    <tr>\n",
       "      <th>118284</th>\n",
       "      <td>data/coco2017/image/train2017/000000581913.jpg</td>\n",
       "    </tr>\n",
       "    <tr>\n",
       "      <th>118285</th>\n",
       "      <td>data/coco2017/image/train2017/000000581921.jpg</td>\n",
       "    </tr>\n",
       "    <tr>\n",
       "      <th>118286</th>\n",
       "      <td>data/coco2017/image/train2017/000000581929.jpg</td>\n",
       "    </tr>\n",
       "  </tbody>\n",
       "</table>\n",
       "<p>118287 rows × 1 columns</p>\n",
       "</div>"
      ],
      "text/plain": [
       "                                            image_path\n",
       "0       data/coco2017/image/train2017/000000000009.jpg\n",
       "1       data/coco2017/image/train2017/000000000025.jpg\n",
       "2       data/coco2017/image/train2017/000000000030.jpg\n",
       "3       data/coco2017/image/train2017/000000000034.jpg\n",
       "4       data/coco2017/image/train2017/000000000036.jpg\n",
       "...                                                ...\n",
       "118282  data/coco2017/image/train2017/000000581906.jpg\n",
       "118283  data/coco2017/image/train2017/000000581909.jpg\n",
       "118284  data/coco2017/image/train2017/000000581913.jpg\n",
       "118285  data/coco2017/image/train2017/000000581921.jpg\n",
       "118286  data/coco2017/image/train2017/000000581929.jpg\n",
       "\n",
       "[118287 rows x 1 columns]"
      ]
     },
     "execution_count": 76,
     "metadata": {},
     "output_type": "execute_result"
    }
   ],
   "source": [
    "df"
   ]
  },
  {
   "cell_type": "code",
   "execution_count": 77,
   "metadata": {},
   "outputs": [
    {
     "data": {
      "text/html": [
       "<div>\n",
       "<style scoped>\n",
       "    .dataframe tbody tr th:only-of-type {\n",
       "        vertical-align: middle;\n",
       "    }\n",
       "\n",
       "    .dataframe tbody tr th {\n",
       "        vertical-align: top;\n",
       "    }\n",
       "\n",
       "    .dataframe thead th {\n",
       "        text-align: right;\n",
       "    }\n",
       "</style>\n",
       "<table border=\"1\" class=\"dataframe\">\n",
       "  <thead>\n",
       "    <tr style=\"text-align: right;\">\n",
       "      <th></th>\n",
       "      <th>annotation_path</th>\n",
       "    </tr>\n",
       "  </thead>\n",
       "  <tbody>\n",
       "    <tr>\n",
       "      <th>0</th>\n",
       "      <td>data/coco2017/labels/train2017/train/000000000...</td>\n",
       "    </tr>\n",
       "    <tr>\n",
       "      <th>1</th>\n",
       "      <td>data/coco2017/labels/train2017/train/000000000...</td>\n",
       "    </tr>\n",
       "    <tr>\n",
       "      <th>2</th>\n",
       "      <td>data/coco2017/labels/train2017/train/000000000...</td>\n",
       "    </tr>\n",
       "    <tr>\n",
       "      <th>3</th>\n",
       "      <td>data/coco2017/labels/train2017/train/000000000...</td>\n",
       "    </tr>\n",
       "    <tr>\n",
       "      <th>4</th>\n",
       "      <td>data/coco2017/labels/train2017/train/000000000...</td>\n",
       "    </tr>\n",
       "    <tr>\n",
       "      <th>...</th>\n",
       "      <td>...</td>\n",
       "    </tr>\n",
       "    <tr>\n",
       "      <th>122213</th>\n",
       "      <td>data/coco2017/labels/val2017/000000581317.txt</td>\n",
       "    </tr>\n",
       "    <tr>\n",
       "      <th>122214</th>\n",
       "      <td>data/coco2017/labels/val2017/000000581357.txt</td>\n",
       "    </tr>\n",
       "    <tr>\n",
       "      <th>122215</th>\n",
       "      <td>data/coco2017/labels/val2017/000000581482.txt</td>\n",
       "    </tr>\n",
       "    <tr>\n",
       "      <th>122216</th>\n",
       "      <td>data/coco2017/labels/val2017/000000581615.txt</td>\n",
       "    </tr>\n",
       "    <tr>\n",
       "      <th>122217</th>\n",
       "      <td>data/coco2017/labels/val2017/000000581781.txt</td>\n",
       "    </tr>\n",
       "  </tbody>\n",
       "</table>\n",
       "<p>122218 rows × 1 columns</p>\n",
       "</div>"
      ],
      "text/plain": [
       "                                          annotation_path\n",
       "0       data/coco2017/labels/train2017/train/000000000...\n",
       "1       data/coco2017/labels/train2017/train/000000000...\n",
       "2       data/coco2017/labels/train2017/train/000000000...\n",
       "3       data/coco2017/labels/train2017/train/000000000...\n",
       "4       data/coco2017/labels/train2017/train/000000000...\n",
       "...                                                   ...\n",
       "122213      data/coco2017/labels/val2017/000000581317.txt\n",
       "122214      data/coco2017/labels/val2017/000000581357.txt\n",
       "122215      data/coco2017/labels/val2017/000000581482.txt\n",
       "122216      data/coco2017/labels/val2017/000000581615.txt\n",
       "122217      data/coco2017/labels/val2017/000000581781.txt\n",
       "\n",
       "[122218 rows x 1 columns]"
      ]
     },
     "execution_count": 77,
     "metadata": {},
     "output_type": "execute_result"
    }
   ],
   "source": [
    "df_label"
   ]
  },
  {
   "cell_type": "code",
   "execution_count": 97,
   "metadata": {},
   "outputs": [],
   "source": [
    "dfinal = df.merge(df_label, on=\"id\", how = 'inner')"
   ]
  },
  {
   "cell_type": "code",
   "execution_count": 98,
   "metadata": {},
   "outputs": [
    {
     "data": {
      "text/html": [
       "<div>\n",
       "<style scoped>\n",
       "    .dataframe tbody tr th:only-of-type {\n",
       "        vertical-align: middle;\n",
       "    }\n",
       "\n",
       "    .dataframe tbody tr th {\n",
       "        vertical-align: top;\n",
       "    }\n",
       "\n",
       "    .dataframe thead th {\n",
       "        text-align: right;\n",
       "    }\n",
       "</style>\n",
       "<table border=\"1\" class=\"dataframe\">\n",
       "  <thead>\n",
       "    <tr style=\"text-align: right;\">\n",
       "      <th></th>\n",
       "      <th>image_path</th>\n",
       "      <th>id</th>\n",
       "      <th>annotation_path</th>\n",
       "    </tr>\n",
       "  </thead>\n",
       "  <tbody>\n",
       "    <tr>\n",
       "      <th>0</th>\n",
       "      <td>data/coco2017/image/train2017/000000000009.jpg</td>\n",
       "      <td>000000000009</td>\n",
       "      <td>data/coco2017/labels/train2017/train/000000000...</td>\n",
       "    </tr>\n",
       "    <tr>\n",
       "      <th>1</th>\n",
       "      <td>data/coco2017/image/train2017/000000000025.jpg</td>\n",
       "      <td>000000000025</td>\n",
       "      <td>data/coco2017/labels/train2017/train/000000000...</td>\n",
       "    </tr>\n",
       "    <tr>\n",
       "      <th>2</th>\n",
       "      <td>data/coco2017/image/train2017/000000000030.jpg</td>\n",
       "      <td>000000000030</td>\n",
       "      <td>data/coco2017/labels/train2017/train/000000000...</td>\n",
       "    </tr>\n",
       "    <tr>\n",
       "      <th>3</th>\n",
       "      <td>data/coco2017/image/train2017/000000000034.jpg</td>\n",
       "      <td>000000000034</td>\n",
       "      <td>data/coco2017/labels/train2017/train/000000000...</td>\n",
       "    </tr>\n",
       "    <tr>\n",
       "      <th>4</th>\n",
       "      <td>data/coco2017/image/train2017/000000000036.jpg</td>\n",
       "      <td>000000000036</td>\n",
       "      <td>data/coco2017/labels/train2017/train/000000000...</td>\n",
       "    </tr>\n",
       "    <tr>\n",
       "      <th>...</th>\n",
       "      <td>...</td>\n",
       "      <td>...</td>\n",
       "      <td>...</td>\n",
       "    </tr>\n",
       "    <tr>\n",
       "      <th>117261</th>\n",
       "      <td>data/coco2017/image/train2017/000000581906.jpg</td>\n",
       "      <td>000000581906</td>\n",
       "      <td>data/coco2017/labels/train2017/train/000000581...</td>\n",
       "    </tr>\n",
       "    <tr>\n",
       "      <th>117262</th>\n",
       "      <td>data/coco2017/image/train2017/000000581909.jpg</td>\n",
       "      <td>000000581909</td>\n",
       "      <td>data/coco2017/labels/train2017/train/000000581...</td>\n",
       "    </tr>\n",
       "    <tr>\n",
       "      <th>117263</th>\n",
       "      <td>data/coco2017/image/train2017/000000581913.jpg</td>\n",
       "      <td>000000581913</td>\n",
       "      <td>data/coco2017/labels/train2017/train/000000581...</td>\n",
       "    </tr>\n",
       "    <tr>\n",
       "      <th>117264</th>\n",
       "      <td>data/coco2017/image/train2017/000000581921.jpg</td>\n",
       "      <td>000000581921</td>\n",
       "      <td>data/coco2017/labels/train2017/train/000000581...</td>\n",
       "    </tr>\n",
       "    <tr>\n",
       "      <th>117265</th>\n",
       "      <td>data/coco2017/image/train2017/000000581929.jpg</td>\n",
       "      <td>000000581929</td>\n",
       "      <td>data/coco2017/labels/train2017/train/000000581...</td>\n",
       "    </tr>\n",
       "  </tbody>\n",
       "</table>\n",
       "<p>117266 rows × 3 columns</p>\n",
       "</div>"
      ],
      "text/plain": [
       "                                            image_path            id  \\\n",
       "0       data/coco2017/image/train2017/000000000009.jpg  000000000009   \n",
       "1       data/coco2017/image/train2017/000000000025.jpg  000000000025   \n",
       "2       data/coco2017/image/train2017/000000000030.jpg  000000000030   \n",
       "3       data/coco2017/image/train2017/000000000034.jpg  000000000034   \n",
       "4       data/coco2017/image/train2017/000000000036.jpg  000000000036   \n",
       "...                                                ...           ...   \n",
       "117261  data/coco2017/image/train2017/000000581906.jpg  000000581906   \n",
       "117262  data/coco2017/image/train2017/000000581909.jpg  000000581909   \n",
       "117263  data/coco2017/image/train2017/000000581913.jpg  000000581913   \n",
       "117264  data/coco2017/image/train2017/000000581921.jpg  000000581921   \n",
       "117265  data/coco2017/image/train2017/000000581929.jpg  000000581929   \n",
       "\n",
       "                                          annotation_path  \n",
       "0       data/coco2017/labels/train2017/train/000000000...  \n",
       "1       data/coco2017/labels/train2017/train/000000000...  \n",
       "2       data/coco2017/labels/train2017/train/000000000...  \n",
       "3       data/coco2017/labels/train2017/train/000000000...  \n",
       "4       data/coco2017/labels/train2017/train/000000000...  \n",
       "...                                                   ...  \n",
       "117261  data/coco2017/labels/train2017/train/000000581...  \n",
       "117262  data/coco2017/labels/train2017/train/000000581...  \n",
       "117263  data/coco2017/labels/train2017/train/000000581...  \n",
       "117264  data/coco2017/labels/train2017/train/000000581...  \n",
       "117265  data/coco2017/labels/train2017/train/000000581...  \n",
       "\n",
       "[117266 rows x 3 columns]"
      ]
     },
     "execution_count": 98,
     "metadata": {},
     "output_type": "execute_result"
    }
   ],
   "source": [
    "dfinal"
   ]
  },
  {
   "cell_type": "code",
   "execution_count": 100,
   "metadata": {},
   "outputs": [
    {
     "data": {
      "text/plain": [
       "['image_path', 'id', 'annotation_path']"
      ]
     },
     "execution_count": 100,
     "metadata": {},
     "output_type": "execute_result"
    }
   ],
   "source": [
    "dfinal.columns.tolist()"
   ]
  },
  {
   "cell_type": "code",
   "execution_count": 105,
   "metadata": {},
   "outputs": [],
   "source": [
    "dfinal = dfinal[[\"id\", \"image_path\", \"annotation_path\"]]\n"
   ]
  },
  {
   "cell_type": "code",
   "execution_count": 106,
   "metadata": {},
   "outputs": [
    {
     "data": {
      "text/html": [
       "<div>\n",
       "<style scoped>\n",
       "    .dataframe tbody tr th:only-of-type {\n",
       "        vertical-align: middle;\n",
       "    }\n",
       "\n",
       "    .dataframe tbody tr th {\n",
       "        vertical-align: top;\n",
       "    }\n",
       "\n",
       "    .dataframe thead th {\n",
       "        text-align: right;\n",
       "    }\n",
       "</style>\n",
       "<table border=\"1\" class=\"dataframe\">\n",
       "  <thead>\n",
       "    <tr style=\"text-align: right;\">\n",
       "      <th></th>\n",
       "      <th>id</th>\n",
       "      <th>image_path</th>\n",
       "      <th>annotation_path</th>\n",
       "    </tr>\n",
       "  </thead>\n",
       "  <tbody>\n",
       "    <tr>\n",
       "      <th>0</th>\n",
       "      <td>000000000009</td>\n",
       "      <td>data/coco2017/image/train2017/000000000009.jpg</td>\n",
       "      <td>data/coco2017/labels/train2017/train/000000000...</td>\n",
       "    </tr>\n",
       "    <tr>\n",
       "      <th>1</th>\n",
       "      <td>000000000025</td>\n",
       "      <td>data/coco2017/image/train2017/000000000025.jpg</td>\n",
       "      <td>data/coco2017/labels/train2017/train/000000000...</td>\n",
       "    </tr>\n",
       "    <tr>\n",
       "      <th>2</th>\n",
       "      <td>000000000030</td>\n",
       "      <td>data/coco2017/image/train2017/000000000030.jpg</td>\n",
       "      <td>data/coco2017/labels/train2017/train/000000000...</td>\n",
       "    </tr>\n",
       "    <tr>\n",
       "      <th>3</th>\n",
       "      <td>000000000034</td>\n",
       "      <td>data/coco2017/image/train2017/000000000034.jpg</td>\n",
       "      <td>data/coco2017/labels/train2017/train/000000000...</td>\n",
       "    </tr>\n",
       "    <tr>\n",
       "      <th>4</th>\n",
       "      <td>000000000036</td>\n",
       "      <td>data/coco2017/image/train2017/000000000036.jpg</td>\n",
       "      <td>data/coco2017/labels/train2017/train/000000000...</td>\n",
       "    </tr>\n",
       "    <tr>\n",
       "      <th>...</th>\n",
       "      <td>...</td>\n",
       "      <td>...</td>\n",
       "      <td>...</td>\n",
       "    </tr>\n",
       "    <tr>\n",
       "      <th>117261</th>\n",
       "      <td>000000581906</td>\n",
       "      <td>data/coco2017/image/train2017/000000581906.jpg</td>\n",
       "      <td>data/coco2017/labels/train2017/train/000000581...</td>\n",
       "    </tr>\n",
       "    <tr>\n",
       "      <th>117262</th>\n",
       "      <td>000000581909</td>\n",
       "      <td>data/coco2017/image/train2017/000000581909.jpg</td>\n",
       "      <td>data/coco2017/labels/train2017/train/000000581...</td>\n",
       "    </tr>\n",
       "    <tr>\n",
       "      <th>117263</th>\n",
       "      <td>000000581913</td>\n",
       "      <td>data/coco2017/image/train2017/000000581913.jpg</td>\n",
       "      <td>data/coco2017/labels/train2017/train/000000581...</td>\n",
       "    </tr>\n",
       "    <tr>\n",
       "      <th>117264</th>\n",
       "      <td>000000581921</td>\n",
       "      <td>data/coco2017/image/train2017/000000581921.jpg</td>\n",
       "      <td>data/coco2017/labels/train2017/train/000000581...</td>\n",
       "    </tr>\n",
       "    <tr>\n",
       "      <th>117265</th>\n",
       "      <td>000000581929</td>\n",
       "      <td>data/coco2017/image/train2017/000000581929.jpg</td>\n",
       "      <td>data/coco2017/labels/train2017/train/000000581...</td>\n",
       "    </tr>\n",
       "  </tbody>\n",
       "</table>\n",
       "<p>117266 rows × 3 columns</p>\n",
       "</div>"
      ],
      "text/plain": [
       "                  id                                      image_path  \\\n",
       "0       000000000009  data/coco2017/image/train2017/000000000009.jpg   \n",
       "1       000000000025  data/coco2017/image/train2017/000000000025.jpg   \n",
       "2       000000000030  data/coco2017/image/train2017/000000000030.jpg   \n",
       "3       000000000034  data/coco2017/image/train2017/000000000034.jpg   \n",
       "4       000000000036  data/coco2017/image/train2017/000000000036.jpg   \n",
       "...              ...                                             ...   \n",
       "117261  000000581906  data/coco2017/image/train2017/000000581906.jpg   \n",
       "117262  000000581909  data/coco2017/image/train2017/000000581909.jpg   \n",
       "117263  000000581913  data/coco2017/image/train2017/000000581913.jpg   \n",
       "117264  000000581921  data/coco2017/image/train2017/000000581921.jpg   \n",
       "117265  000000581929  data/coco2017/image/train2017/000000581929.jpg   \n",
       "\n",
       "                                          annotation_path  \n",
       "0       data/coco2017/labels/train2017/train/000000000...  \n",
       "1       data/coco2017/labels/train2017/train/000000000...  \n",
       "2       data/coco2017/labels/train2017/train/000000000...  \n",
       "3       data/coco2017/labels/train2017/train/000000000...  \n",
       "4       data/coco2017/labels/train2017/train/000000000...  \n",
       "...                                                   ...  \n",
       "117261  data/coco2017/labels/train2017/train/000000581...  \n",
       "117262  data/coco2017/labels/train2017/train/000000581...  \n",
       "117263  data/coco2017/labels/train2017/train/000000581...  \n",
       "117264  data/coco2017/labels/train2017/train/000000581...  \n",
       "117265  data/coco2017/labels/train2017/train/000000581...  \n",
       "\n",
       "[117266 rows x 3 columns]"
      ]
     },
     "execution_count": 106,
     "metadata": {},
     "output_type": "execute_result"
    }
   ],
   "source": [
    "dfinal"
   ]
  },
  {
   "cell_type": "code",
   "execution_count": null,
   "metadata": {},
   "outputs": [],
   "source": [
    "dfinal.to_csv('coco.csv', index=False)"
   ]
  }
 ],
 "metadata": {
  "kernelspec": {
   "display_name": "train",
   "language": "python",
   "name": "python3"
  },
  "language_info": {
   "codemirror_mode": {
    "name": "ipython",
    "version": 3
   },
   "file_extension": ".py",
   "mimetype": "text/x-python",
   "name": "python",
   "nbconvert_exporter": "python",
   "pygments_lexer": "ipython3",
   "version": "3.10.8"
  },
  "orig_nbformat": 4
 },
 "nbformat": 4,
 "nbformat_minor": 2
}
